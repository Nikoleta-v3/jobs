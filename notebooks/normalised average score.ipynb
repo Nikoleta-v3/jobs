{
 "cells": [
  {
   "cell_type": "code",
   "execution_count": null,
   "metadata": {
    "collapsed": true
   },
   "outputs": [],
   "source": [
    "# normilizes score\n",
    "data['normalised_score'] = data.average_score/data.frequency"
   ]
  },
  {
   "cell_type": "code",
   "execution_count": null,
   "metadata": {
    "collapsed": true
   },
   "outputs": [],
   "source": [
    "grouped = data.groupby([\"player_name\"])\n",
    "temp = pd.DataFrame({col:vals['normalised_score'] for col,vals in grouped})\n",
    "meds = temp.median()\n",
    "meds.sort(ascending=False)\n",
    "temp = temp[meds.index]"
   ]
  },
  {
   "cell_type": "code",
   "execution_count": null,
   "metadata": {
    "collapsed": true
   },
   "outputs": [],
   "source": [
    "figure = plt.figure(figsize=(120, 60))\n",
    "plt.xticks(positions, rotation=90)\n",
    "plt.xlim(0, spacing * (nplayers + 1))\n",
    "plt.tick_params(axis='both', which='both', labelsize=8)\n",
    "sns.violinplot(data=temp, width= 0.7, scale = 'width')\n",
    "plt.xlabel('Strategies', fontsize=70)\n",
    "plt.ylabel('Normalised Average Score', fontsize=70)\n",
    "plt.title('Normalised Average Score {} Topology Size {}'.format(title,size), fontsize=70)\n",
    "plt.savefig(\"/home/nikoleta/src/jobs/images/normalised-score-{}-{}.pdf\".format(title,size), format='pdf',bbox_inches='tight')"
   ]
  }
 ],
 "metadata": {
  "kernelspec": {
   "display_name": "Python 3",
   "language": "python",
   "name": "python3"
  },
  "language_info": {
   "codemirror_mode": {
    "name": "ipython",
    "version": 3
   },
   "file_extension": ".py",
   "mimetype": "text/x-python",
   "name": "python",
   "nbconvert_exporter": "python",
   "pygments_lexer": "ipython3",
   "version": "3.5.1+"
  }
 },
 "nbformat": 4,
 "nbformat_minor": 0
}
