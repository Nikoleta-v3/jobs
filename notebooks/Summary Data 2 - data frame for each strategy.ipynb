{
 "cells": [
  {
   "cell_type": "markdown",
   "metadata": {},
   "source": [
    "Summary Data 2 - data frame for each strategy\n",
    "==============================================\n",
    "In this notebook, the data generated from the second generation experiment, are divived in seperate data\n",
    "sets for each strategy. \n",
    "\n",
    "The data sets will be used for statistical analysis."
   ]
  },
  {
   "cell_type": "code",
   "execution_count": 1,
   "metadata": {
    "collapsed": true
   },
   "outputs": [],
   "source": [
    "import pandas as pd"
   ]
  },
  {
   "cell_type": "code",
   "execution_count": 2,
   "metadata": {
    "collapsed": true
   },
   "outputs": [],
   "source": [
    "# import after data\n",
    "binomial = pd.read_hdf(\"/home/nikoleta/Desktop/binomial_after.h5\")"
   ]
  },
  {
   "cell_type": "code",
   "execution_count": 3,
   "metadata": {
    "collapsed": false
   },
   "outputs": [
    {
     "data": {
      "text/html": [
       "<div>\n",
       "<table border=\"1\" class=\"dataframe\">\n",
       "  <thead>\n",
       "    <tr style=\"text-align: right;\">\n",
       "      <th></th>\n",
       "      <th>P</th>\n",
       "      <th>R</th>\n",
       "      <th>S</th>\n",
       "      <th>T</th>\n",
       "      <th>average_neighborhood_score</th>\n",
       "      <th>average_score</th>\n",
       "      <th>clustering</th>\n",
       "      <th>connectivity</th>\n",
       "      <th>cooperating_ratio</th>\n",
       "      <th>degree</th>\n",
       "      <th>...</th>\n",
       "      <th>seed</th>\n",
       "      <th>tournament_id</th>\n",
       "      <th>tournament_size</th>\n",
       "      <th>frequency</th>\n",
       "      <th>wins</th>\n",
       "      <th>ratio</th>\n",
       "      <th>cliques</th>\n",
       "      <th>normalized_average_score</th>\n",
       "      <th>num_cliques</th>\n",
       "      <th>median_ranking</th>\n",
       "    </tr>\n",
       "  </thead>\n",
       "  <tbody>\n",
       "    <tr>\n",
       "      <th>2575</th>\n",
       "      <td>1</td>\n",
       "      <td>3</td>\n",
       "      <td>0</td>\n",
       "      <td>5</td>\n",
       "      <td>2.487654</td>\n",
       "      <td>2.166667</td>\n",
       "      <td>1.0</td>\n",
       "      <td>9</td>\n",
       "      <td>0.5</td>\n",
       "      <td>9</td>\n",
       "      <td>...</td>\n",
       "      <td>0</td>\n",
       "      <td>411</td>\n",
       "      <td>10</td>\n",
       "      <td>10</td>\n",
       "      <td>0</td>\n",
       "      <td>0.0</td>\n",
       "      <td>[[0, 1, 2, 3, 4, 5]]</td>\n",
       "      <td>0.216667</td>\n",
       "      <td>1</td>\n",
       "      <td>6.0</td>\n",
       "    </tr>\n",
       "    <tr>\n",
       "      <th>2576</th>\n",
       "      <td>1</td>\n",
       "      <td>3</td>\n",
       "      <td>0</td>\n",
       "      <td>5</td>\n",
       "      <td>2.487654</td>\n",
       "      <td>2.166667</td>\n",
       "      <td>1.0</td>\n",
       "      <td>9</td>\n",
       "      <td>0.5</td>\n",
       "      <td>9</td>\n",
       "      <td>...</td>\n",
       "      <td>1</td>\n",
       "      <td>412</td>\n",
       "      <td>10</td>\n",
       "      <td>10</td>\n",
       "      <td>0</td>\n",
       "      <td>0.0</td>\n",
       "      <td>[[0, 1, 2, 3, 4, 5]]</td>\n",
       "      <td>0.216667</td>\n",
       "      <td>1</td>\n",
       "      <td>6.0</td>\n",
       "    </tr>\n",
       "    <tr>\n",
       "      <th>2577</th>\n",
       "      <td>1</td>\n",
       "      <td>3</td>\n",
       "      <td>0</td>\n",
       "      <td>5</td>\n",
       "      <td>2.487654</td>\n",
       "      <td>2.166667</td>\n",
       "      <td>1.0</td>\n",
       "      <td>9</td>\n",
       "      <td>0.5</td>\n",
       "      <td>9</td>\n",
       "      <td>...</td>\n",
       "      <td>2</td>\n",
       "      <td>413</td>\n",
       "      <td>10</td>\n",
       "      <td>10</td>\n",
       "      <td>0</td>\n",
       "      <td>0.0</td>\n",
       "      <td>[[0, 1, 2, 3, 4, 5]]</td>\n",
       "      <td>0.216667</td>\n",
       "      <td>1</td>\n",
       "      <td>6.0</td>\n",
       "    </tr>\n",
       "    <tr>\n",
       "      <th>2578</th>\n",
       "      <td>1</td>\n",
       "      <td>3</td>\n",
       "      <td>0</td>\n",
       "      <td>5</td>\n",
       "      <td>2.487654</td>\n",
       "      <td>2.166667</td>\n",
       "      <td>1.0</td>\n",
       "      <td>9</td>\n",
       "      <td>0.5</td>\n",
       "      <td>9</td>\n",
       "      <td>...</td>\n",
       "      <td>3</td>\n",
       "      <td>414</td>\n",
       "      <td>10</td>\n",
       "      <td>10</td>\n",
       "      <td>0</td>\n",
       "      <td>0.0</td>\n",
       "      <td>[[0, 1, 2, 3, 4, 5]]</td>\n",
       "      <td>0.216667</td>\n",
       "      <td>1</td>\n",
       "      <td>6.0</td>\n",
       "    </tr>\n",
       "    <tr>\n",
       "      <th>2579</th>\n",
       "      <td>1</td>\n",
       "      <td>3</td>\n",
       "      <td>0</td>\n",
       "      <td>5</td>\n",
       "      <td>2.487654</td>\n",
       "      <td>2.166667</td>\n",
       "      <td>1.0</td>\n",
       "      <td>9</td>\n",
       "      <td>0.5</td>\n",
       "      <td>9</td>\n",
       "      <td>...</td>\n",
       "      <td>4</td>\n",
       "      <td>415</td>\n",
       "      <td>10</td>\n",
       "      <td>10</td>\n",
       "      <td>0</td>\n",
       "      <td>0.0</td>\n",
       "      <td>[[0, 1, 2, 3, 4, 5]]</td>\n",
       "      <td>0.216667</td>\n",
       "      <td>1</td>\n",
       "      <td>6.0</td>\n",
       "    </tr>\n",
       "  </tbody>\n",
       "</table>\n",
       "<p>5 rows × 27 columns</p>\n",
       "</div>"
      ],
      "text/plain": [
       "      P  R  S  T  average_neighborhood_score  average_score  clustering  \\\n",
       "2575  1  3  0  5                    2.487654       2.166667         1.0   \n",
       "2576  1  3  0  5                    2.487654       2.166667         1.0   \n",
       "2577  1  3  0  5                    2.487654       2.166667         1.0   \n",
       "2578  1  3  0  5                    2.487654       2.166667         1.0   \n",
       "2579  1  3  0  5                    2.487654       2.166667         1.0   \n",
       "\n",
       "      connectivity  cooperating_ratio  degree       ...        seed  \\\n",
       "2575             9                0.5       9       ...           0   \n",
       "2576             9                0.5       9       ...           1   \n",
       "2577             9                0.5       9       ...           2   \n",
       "2578             9                0.5       9       ...           3   \n",
       "2579             9                0.5       9       ...           4   \n",
       "\n",
       "      tournament_id tournament_size  frequency  wins ratio  \\\n",
       "2575            411              10         10     0   0.0   \n",
       "2576            412              10         10     0   0.0   \n",
       "2577            413              10         10     0   0.0   \n",
       "2578            414              10         10     0   0.0   \n",
       "2579            415              10         10     0   0.0   \n",
       "\n",
       "                   cliques  normalized_average_score  num_cliques  \\\n",
       "2575  [[0, 1, 2, 3, 4, 5]]                  0.216667            1   \n",
       "2576  [[0, 1, 2, 3, 4, 5]]                  0.216667            1   \n",
       "2577  [[0, 1, 2, 3, 4, 5]]                  0.216667            1   \n",
       "2578  [[0, 1, 2, 3, 4, 5]]                  0.216667            1   \n",
       "2579  [[0, 1, 2, 3, 4, 5]]                  0.216667            1   \n",
       "\n",
       "      median_ranking  \n",
       "2575             6.0  \n",
       "2576             6.0  \n",
       "2577             6.0  \n",
       "2578             6.0  \n",
       "2579             6.0  \n",
       "\n",
       "[5 rows x 27 columns]"
      ]
     },
     "execution_count": 3,
     "metadata": {},
     "output_type": "execute_result"
    }
   ],
   "source": [
    "binomial.tail()"
   ]
  },
  {
   "cell_type": "code",
   "execution_count": 3,
   "metadata": {
    "collapsed": true
   },
   "outputs": [],
   "source": [
    "# median ranking \n",
    "median_ranking = binomial.groupby('player_name')['ranking'].median()\n",
    "ranking_median = pd.DataFrame({'player_name' : list(median_ranking.index), \n",
    "                               'median_ranking' : median_ranking.values})\n",
    "binomial = pd.merge(binomial, ranking_median)"
   ]
  },
  {
   "cell_type": "code",
   "execution_count": 4,
   "metadata": {
    "collapsed": false
   },
   "outputs": [],
   "source": [
    "# get list of strategies \n",
    "list_strategies = binomial.player_name.unique()\n",
    "# number of strategies\n",
    "num_strategies = len(binomial.player_name.unique())"
   ]
  },
  {
   "cell_type": "code",
   "execution_count": 5,
   "metadata": {
    "collapsed": false
   },
   "outputs": [],
   "source": [
    "# create data set for each one of the strategies\n",
    "frames = []\n",
    "for i in list_strategies :\n",
    "    frames.append(binomial[binomial.player_name==i])"
   ]
  },
  {
   "cell_type": "code",
   "execution_count": 6,
   "metadata": {
    "collapsed": false
   },
   "outputs": [],
   "source": [
    "# fixing index\n",
    "for i in range(num_strategies):\n",
    "    frames[i].index = range(len(frames[i]))"
   ]
  },
  {
   "cell_type": "code",
   "execution_count": 7,
   "metadata": {
    "collapsed": false
   },
   "outputs": [
    {
     "data": {
      "text/plain": [
       "(43, 43)"
      ]
     },
     "execution_count": 7,
     "metadata": {},
     "output_type": "execute_result"
    }
   ],
   "source": [
    "len(list_strategies), len(frames)"
   ]
  },
  {
   "cell_type": "markdown",
   "metadata": {},
   "source": [
    "Summary Data 3 - Regression Table Winning Ratio\n",
    "=========================================\n",
    "A regression model to predict winning ratio for each strategy. Keep coefficients and p value."
   ]
  },
  {
   "cell_type": "code",
   "execution_count": 8,
   "metadata": {
    "collapsed": false
   },
   "outputs": [],
   "source": [
    "# stats libraries\n",
    "import statsmodels.formula.api as sm\n",
    "from scipy.stats.stats import pearsonr\n",
    "\n",
    "import matplotlib.pyplot as plt\n",
    "%matplotlib inline"
   ]
  },
  {
   "cell_type": "code",
   "execution_count": 9,
   "metadata": {
    "collapsed": false
   },
   "outputs": [
    {
     "data": {
      "text/plain": [
       "Index(['P', 'R', 'S', 'T', 'average_neighborhood_score', 'average_score',\n",
       "       'clustering', 'connectivity', 'cooperating_ratio', 'degree',\n",
       "       'initial_neighbourhood_size', 'neighborhood_size', 'neighbors',\n",
       "       'parameter', 'player_index', 'player_name', 'ranking', 'seed',\n",
       "       'tournament_id', 'tournament_size', 'frequency', 'wins', 'ratio',\n",
       "       'cliques', 'normalized_average_score', 'num_cliques', 'median_ranking'],\n",
       "      dtype='object')"
      ]
     },
     "execution_count": 9,
     "metadata": {},
     "output_type": "execute_result"
    }
   ],
   "source": [
    "frames[0].columns"
   ]
  },
  {
   "cell_type": "code",
   "execution_count": 10,
   "metadata": {
    "collapsed": false
   },
   "outputs": [
    {
     "data": {
      "text/plain": [
       "<matplotlib.axes._subplots.AxesSubplot at 0x7f76502d3278>"
      ]
     },
     "execution_count": 10,
     "metadata": {},
     "output_type": "execute_result"
    },
    {
     "data": {
      "image/png": "[encoded data removed]",
      "text/plain": [
       "<matplotlib.figure.Figure at 0x7f765048f400>"
      ]
     },
     "metadata": {},
     "output_type": "display_data"
    }
   ],
   "source": [
    "# visualize the relationship between the features and the response using scatterplots\n",
    "fig, axs = plt.subplots(1, 7, sharey=True)\n",
    "frames[0].plot(kind='scatter', x='average_neighborhood_score', y='ratio', ax=axs[0], figsize=(16, 8))\n",
    "frames[0].plot(kind='scatter', x='average_score', y='ratio', ax=axs[1])\n",
    "frames[0].plot(kind='scatter', x='connectivity', y='ratio', ax=axs[2])\n",
    "frames[0].plot(kind='scatter', x='cooperating_ratio', y='ratio', ax=axs[3])\n",
    "frames[0].plot(kind='scatter', x='frequency', y='ratio', ax=axs[4])\n",
    "frames[0].plot(kind='scatter', x='num_cliques', y='ratio', ax=axs[5])\n",
    "frames[0].plot(kind='scatter', x='ranking', y='ratio', ax=axs[6])"
   ]
  },
  {
   "cell_type": "code",
   "execution_count": 11,
   "metadata": {
    "collapsed": false
   },
   "outputs": [],
   "source": [
    "ratio_reg_list = []\n",
    "for i in range (num_strategies):\n",
    "    row = []\n",
    "    model = sm.ols(formula=\"ratio ~ average_neighborhood_score + average_score + connectivity +  cooperating_ratio + degree + tournament_size + frequency + num_cliques\",\n",
    "                   data=frames[i])\n",
    "    results = model.fit()\n",
    "    row.append(frames[i].player_name[0])\n",
    "    for i in range(len(results.params)):\n",
    "        row.append(results.params[i])\n",
    "    for i in range(len(results.pvalues)):\n",
    "        row.append(results.pvalues[i])\n",
    "    row.append(results.rsquared)\n",
    "    ratio_reg_list.append(row)"
   ]
  },
  {
   "cell_type": "code",
   "execution_count": 12,
   "metadata": {
    "collapsed": false
   },
   "outputs": [],
   "source": [
    "# fixing columns names\n",
    "columns = []\n",
    "columns= ['strategies']\n",
    "for i in range(len(results.params)):\n",
    "    columns.append(results.params.index[i])\n",
    "for i in range(len(results.pvalues)):\n",
    "    columns.append('p_value_{}'.format(results.pvalues.index[i]))\n",
    "columns.append('R-square')"
   ]
  },
  {
   "cell_type": "code",
   "execution_count": 20,
   "metadata": {
    "collapsed": false
   },
   "outputs": [
    {
     "name": "stderr",
     "output_type": "stream",
     "text": [
      "/home/nikoleta/.local/lib/python3.5/site-packages/ipykernel/__main__.py:2: FutureWarning: sort(columns=....) is deprecated, use sort_values(by=.....)\n",
      "  from ipykernel import kernelapp as app\n"
     ]
    },
    {
     "data": {
      "text/html": [
       "<div>\n",
       "<table border=\"1\" class=\"dataframe\">\n",
       "  <thead>\n",
       "    <tr style=\"text-align: right;\">\n",
       "      <th></th>\n",
       "      <th>strategies</th>\n",
       "      <th>Intercept</th>\n",
       "      <th>average_neighborhood_score</th>\n",
       "      <th>average_score</th>\n",
       "      <th>connectivity</th>\n",
       "      <th>cooperating_ratio</th>\n",
       "      <th>degree</th>\n",
       "      <th>tournament_size</th>\n",
       "      <th>frequency</th>\n",
       "      <th>num_cliques</th>\n",
       "      <th>p_value_Intercept</th>\n",
       "      <th>p_value_average_neighborhood_score</th>\n",
       "      <th>p_value_average_score</th>\n",
       "      <th>p_value_connectivity</th>\n",
       "      <th>p_value_cooperating_ratio</th>\n",
       "      <th>p_value_degree</th>\n",
       "      <th>p_value_tournament_size</th>\n",
       "      <th>p_value_frequency</th>\n",
       "      <th>p_value_num_cliques</th>\n",
       "      <th>R-square</th>\n",
       "    </tr>\n",
       "  </thead>\n",
       "  <tbody>\n",
       "    <tr>\n",
       "      <th>5</th>\n",
       "      <td>Cycler CCD</td>\n",
       "      <td>0.000009</td>\n",
       "      <td>-3.464026e-17</td>\n",
       "      <td>1.929880e-17</td>\n",
       "      <td>6.776264e-19</td>\n",
       "      <td>9.134319e-06</td>\n",
       "      <td>-8.890458e-18</td>\n",
       "      <td>3.339343e-17</td>\n",
       "      <td>0.001124</td>\n",
       "      <td>3.469447e-18</td>\n",
       "      <td>0.0</td>\n",
       "      <td>0.685688</td>\n",
       "      <td>0.663134</td>\n",
       "      <td>0.969933</td>\n",
       "      <td>0.000000</td>\n",
       "      <td>0.719885</td>\n",
       "      <td>0.018678</td>\n",
       "      <td>0.0</td>\n",
       "      <td>0.965129</td>\n",
       "      <td>-50.544715</td>\n",
       "    </tr>\n",
       "    <tr>\n",
       "      <th>13</th>\n",
       "      <td>Davis</td>\n",
       "      <td>0.000017</td>\n",
       "      <td>3.903128e-18</td>\n",
       "      <td>5.854692e-18</td>\n",
       "      <td>8.782038e-18</td>\n",
       "      <td>1.658670e-05</td>\n",
       "      <td>-1.713039e-17</td>\n",
       "      <td>1.409463e-17</td>\n",
       "      <td>0.001244</td>\n",
       "      <td>-6.938894e-18</td>\n",
       "      <td>0.0</td>\n",
       "      <td>0.953394</td>\n",
       "      <td>0.909139</td>\n",
       "      <td>0.751991</td>\n",
       "      <td>0.000000</td>\n",
       "      <td>0.593886</td>\n",
       "      <td>0.367410</td>\n",
       "      <td>0.0</td>\n",
       "      <td>0.694128</td>\n",
       "      <td>-36.993333</td>\n",
       "    </tr>\n",
       "    <tr>\n",
       "      <th>3</th>\n",
       "      <td>Champion</td>\n",
       "      <td>0.000001</td>\n",
       "      <td>1.084202e-18</td>\n",
       "      <td>1.084202e-18</td>\n",
       "      <td>-1.924459e-18</td>\n",
       "      <td>-7.199102e-17</td>\n",
       "      <td>2.732528e-18</td>\n",
       "      <td>-5.177065e-18</td>\n",
       "      <td>0.000151</td>\n",
       "      <td>-1.714395e-18</td>\n",
       "      <td>0.0</td>\n",
       "      <td>0.871536</td>\n",
       "      <td>0.872277</td>\n",
       "      <td>0.215863</td>\n",
       "      <td>0.026749</td>\n",
       "      <td>0.186843</td>\n",
       "      <td>0.000018</td>\n",
       "      <td>0.0</td>\n",
       "      <td>0.161661</td>\n",
       "      <td>-25.950355</td>\n",
       "    </tr>\n",
       "    <tr>\n",
       "      <th>18</th>\n",
       "      <td>Suspicious Tit For Tat</td>\n",
       "      <td>0.000013</td>\n",
       "      <td>-8.500145e-17</td>\n",
       "      <td>-3.426079e-17</td>\n",
       "      <td>1.799776e-17</td>\n",
       "      <td>1.353084e-16</td>\n",
       "      <td>-3.041187e-17</td>\n",
       "      <td>1.561251e-17</td>\n",
       "      <td>0.000865</td>\n",
       "      <td>-8.131516e-20</td>\n",
       "      <td>0.0</td>\n",
       "      <td>0.002063</td>\n",
       "      <td>0.145200</td>\n",
       "      <td>0.002752</td>\n",
       "      <td>0.235613</td>\n",
       "      <td>0.000394</td>\n",
       "      <td>0.005815</td>\n",
       "      <td>0.0</td>\n",
       "      <td>0.988213</td>\n",
       "      <td>-22.161765</td>\n",
       "    </tr>\n",
       "    <tr>\n",
       "      <th>22</th>\n",
       "      <td>Meta Majority</td>\n",
       "      <td>0.000006</td>\n",
       "      <td>-5.637851e-17</td>\n",
       "      <td>-5.551115e-17</td>\n",
       "      <td>-3.957338e-18</td>\n",
       "      <td>2.218278e-16</td>\n",
       "      <td>6.722053e-18</td>\n",
       "      <td>-1.561251e-17</td>\n",
       "      <td>0.000493</td>\n",
       "      <td>-9.622294e-19</td>\n",
       "      <td>0.0</td>\n",
       "      <td>0.165312</td>\n",
       "      <td>0.041775</td>\n",
       "      <td>0.401851</td>\n",
       "      <td>0.008766</td>\n",
       "      <td>0.281071</td>\n",
       "      <td>0.006442</td>\n",
       "      <td>0.0</td>\n",
       "      <td>0.812741</td>\n",
       "      <td>-9.471154</td>\n",
       "    </tr>\n",
       "  </tbody>\n",
       "</table>\n",
       "</div>"
      ],
      "text/plain": [
       "                strategies  Intercept  average_neighborhood_score  \\\n",
       "5               Cycler CCD   0.000009               -3.464026e-17   \n",
       "13                   Davis   0.000017                3.903128e-18   \n",
       "3                 Champion   0.000001                1.084202e-18   \n",
       "18  Suspicious Tit For Tat   0.000013               -8.500145e-17   \n",
       "22           Meta Majority   0.000006               -5.637851e-17   \n",
       "\n",
       "    average_score  connectivity  cooperating_ratio        degree  \\\n",
       "5    1.929880e-17  6.776264e-19       9.134319e-06 -8.890458e-18   \n",
       "13   5.854692e-18  8.782038e-18       1.658670e-05 -1.713039e-17   \n",
       "3    1.084202e-18 -1.924459e-18      -7.199102e-17  2.732528e-18   \n",
       "18  -3.426079e-17  1.799776e-17       1.353084e-16 -3.041187e-17   \n",
       "22  -5.551115e-17 -3.957338e-18       2.218278e-16  6.722053e-18   \n",
       "\n",
       "    tournament_size  frequency   num_cliques  p_value_Intercept  \\\n",
       "5      3.339343e-17   0.001124  3.469447e-18                0.0   \n",
       "13     1.409463e-17   0.001244 -6.938894e-18                0.0   \n",
       "3     -5.177065e-18   0.000151 -1.714395e-18                0.0   \n",
       "18     1.561251e-17   0.000865 -8.131516e-20                0.0   \n",
       "22    -1.561251e-17   0.000493 -9.622294e-19                0.0   \n",
       "\n",
       "    p_value_average_neighborhood_score  p_value_average_score  \\\n",
       "5                             0.685688               0.663134   \n",
       "13                            0.953394               0.909139   \n",
       "3                             0.871536               0.872277   \n",
       "18                            0.002063               0.145200   \n",
       "22                            0.165312               0.041775   \n",
       "\n",
       "    p_value_connectivity  p_value_cooperating_ratio  p_value_degree  \\\n",
       "5               0.969933                   0.000000        0.719885   \n",
       "13              0.751991                   0.000000        0.593886   \n",
       "3               0.215863                   0.026749        0.186843   \n",
       "18              0.002752                   0.235613        0.000394   \n",
       "22              0.401851                   0.008766        0.281071   \n",
       "\n",
       "    p_value_tournament_size  p_value_frequency  p_value_num_cliques   R-square  \n",
       "5                  0.018678                0.0             0.965129 -50.544715  \n",
       "13                 0.367410                0.0             0.694128 -36.993333  \n",
       "3                  0.000018                0.0             0.161661 -25.950355  \n",
       "18                 0.005815                0.0             0.988213 -22.161765  \n",
       "22                 0.006442                0.0             0.812741  -9.471154  "
      ]
     },
     "execution_count": 20,
     "metadata": {},
     "output_type": "execute_result"
    }
   ],
   "source": [
    "df = pd.DataFrame(ratio_reg_list, columns=columns)\n",
    "df.sort('R-square').dropna().tail()"
   ]
  },
  {
   "cell_type": "markdown",
   "metadata": {},
   "source": [
    "Summary Data 4 - Regression Table Average Score\n",
    "========================================\n",
    "A regression model to predict normalizes average score for each strategy. Keep coefficients and p value."
   ]
  },
  {
   "cell_type": "code",
   "execution_count": 102,
   "metadata": {
    "collapsed": true
   },
   "outputs": [],
   "source": [
    "score_reg_list = []\n",
    "for i in range (num_strategies):\n",
    "    row = []\n",
    "    model = sm.ols(formula=\"normalized_average_score ~ average_neighborhood_score + average_score + connectivity +  cooperating_ratio + degree + tournament_size + frequency + num_cliques\",\n",
    "                   data=frames[i])\n",
    "    row.append(frames[i].player_name[0])\n",
    "    for i in range(len(results.params)):\n",
    "        row.append(results.params[i])\n",
    "    for i in range(len(results.pvalues)):\n",
    "        row.append(results.pvalues[i])\n",
    "    row.append(results.rsquared)\n",
    "    score_reg_list.append(row)"
   ]
  },
  {
   "cell_type": "code",
   "execution_count": 103,
   "metadata": {
    "collapsed": true
   },
   "outputs": [],
   "source": [
    "# fixing columns names\n",
    "columns = []\n",
    "columns= ['strategies']\n",
    "for i in range(len(results.params)):\n",
    "    columns.append(results.params.index[i])\n",
    "for i in range(len(results.pvalues)):\n",
    "    columns.append('p_value_{}'.format(results.pvalues.index[i]))\n",
    "columns.append('R-square')"
   ]
  },
  {
   "cell_type": "code",
   "execution_count": 104,
   "metadata": {
    "collapsed": true
   },
   "outputs": [],
   "source": [
    "df = pd.DataFrame(score_reg_list, columns=columns)"
   ]
  },
  {
   "cell_type": "code",
   "execution_count": null,
   "metadata": {
    "collapsed": true
   },
   "outputs": [],
   "source": []
  }
 ],
 "metadata": {
  "kernelspec": {
   "display_name": "Python 3",
   "language": "python",
   "name": "python3"
  },
  "language_info": {
   "codemirror_mode": {
    "name": "ipython",
    "version": 3
   },
   "file_extension": ".py",
   "mimetype": "text/x-python",
   "name": "python",
   "nbconvert_exporter": "python",
   "pygments_lexer": "ipython3",
   "version": "3.5.2"
  }
 },
 "nbformat": 4,
 "nbformat_minor": 0
}
