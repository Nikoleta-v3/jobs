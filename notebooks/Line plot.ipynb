{
 "cells": [
  {
   "cell_type": "code",
   "execution_count": 1,
   "metadata": {
    "collapsed": false
   },
   "outputs": [],
   "source": [
    "from collections import defaultdict\n",
    "from pathlib import Path\n",
    "\n",
    "from matplotlib import pyplot as plt\n",
    "\n",
    "\n",
    "\n",
    "plt.rcParams['figure.figsize'] = 20, 20\n",
    "\n",
    "from IPython.display import Markdown, display\n",
    "def printmd(string):\n",
    "    display(Markdown(string))\n",
    "    \n",
    "import pandas as pd"
   ]
  },
  {
   "cell_type": "code",
   "execution_count": 3,
   "metadata": {
    "collapsed": true
   },
   "outputs": [],
   "source": [
    "# for tournament size 5\n",
    "cycle = pd.read_csv(\"/home/nikoleta/src/jobs/data/ch3_experiment/after_analysis/ratio-cfifty.csv\")\n",
    "lattice = pd.read_csv(\"/home/nikoleta/src/jobs/data/ch3_experiment/after_analysis/ratio-lfifty.csv\")\n",
    "round_robin = pd.read_csv(\"/home/nikoleta/src/jobs/data/ch3_experiment/after_analysis/ratio_rr_fifty.csv\")"
   ]
  },
  {
   "cell_type": "code",
   "execution_count": 4,
   "metadata": {
    "collapsed": false
   },
   "outputs": [
    {
     "name": "stderr",
     "output_type": "stream",
     "text": [
      "/home/nikoleta/.local/lib/python3.5/site-packages/ipykernel/__main__.py:1: FutureWarning: sort(columns=....) is deprecated, use sort_values(by=.....)\n",
      "  if __name__ == '__main__':\n"
     ]
    }
   ],
   "source": [
    "cycle = cycle.sort(columns='ratio')\n",
    "ranks_cycle = cycle.player_name.unique()"
   ]
  },
  {
   "cell_type": "code",
   "execution_count": 5,
   "metadata": {
    "collapsed": false
   },
   "outputs": [
    {
     "name": "stderr",
     "output_type": "stream",
     "text": [
      "/home/nikoleta/.local/lib/python3.5/site-packages/ipykernel/__main__.py:1: FutureWarning: sort(columns=....) is deprecated, use sort_values(by=.....)\n",
      "  if __name__ == '__main__':\n"
     ]
    }
   ],
   "source": [
    "lattice = lattice.sort(columns='ratio')\n",
    "ranks_lattice = lattice.player_name.unique()"
   ]
  },
  {
   "cell_type": "code",
   "execution_count": 6,
   "metadata": {
    "collapsed": false
   },
   "outputs": [
    {
     "name": "stderr",
     "output_type": "stream",
     "text": [
      "/home/nikoleta/.local/lib/python3.5/site-packages/ipykernel/__main__.py:1: FutureWarning: sort(columns=....) is deprecated, use sort_values(by=.....)\n",
      "  if __name__ == '__main__':\n"
     ]
    }
   ],
   "source": [
    "round_robin = round_robin.sort(columns='ratio')\n",
    "ranks_round_robin = round_robin.player_name.unique()"
   ]
  },
  {
   "cell_type": "code",
   "execution_count": 7,
   "metadata": {
    "collapsed": false
   },
   "outputs": [],
   "source": [
    "edges_for_cycle_lattice = []\n",
    "for i in range(len(ranks_cycle)):\n",
    "    for j in range(len(ranks_lattice)):\n",
    "        if ranks_cycle[i] == ranks_lattice[j]:\n",
    "            edges_for_cycle_lattice.append(tuple((i,j)))"
   ]
  },
  {
   "cell_type": "code",
   "execution_count": 8,
   "metadata": {
    "collapsed": true
   },
   "outputs": [],
   "source": [
    "edges_for_lattice_round_robin = []\n",
    "for i in range(len(ranks_lattice)):\n",
    "    for j in range(len(ranks_round_robin)):\n",
    "        if ranks_lattice[i] == ranks_round_robin[j]:\n",
    "            edges_for_lattice_round_robin.append(tuple((i,j)))"
   ]
  },
  {
   "cell_type": "code",
   "execution_count": 9,
   "metadata": {
    "collapsed": false
   },
   "outputs": [],
   "source": [
    "edges_for_cycle_round_robin = []\n",
    "for i in range(len(ranks_cycle)):\n",
    "    for j in range(len(ranks_round_robin)):\n",
    "        if ranks_cycle[i] == ranks_round_robin[j]:\n",
    "            edges_for_cycle_round_robin.append(tuple((i,j)))"
   ]
  },
  {
   "cell_type": "code",
   "execution_count": 10,
   "metadata": {
    "collapsed": false
   },
   "outputs": [],
   "source": [
    "# table vince asked\n",
    "edges = []\n",
    "for i in range(len(ranks_cycle)):\n",
    "    for j in range(len(ranks_lattice)):\n",
    "        for z in range(len(ranks_round_robin)):\n",
    "            if ranks_cycle[i] == ranks_lattice[j]:\n",
    "                if ranks_cycle[i] == ranks_round_robin[z]:\n",
    "                    edges.append(tuple((i,j,z)))"
   ]
  },
  {
   "cell_type": "code",
   "execution_count": 10,
   "metadata": {
    "collapsed": false
   },
   "outputs": [],
   "source": [
    "fig, ax = plt.subplots(figsize=(15,30))\n",
    "\n",
    "for x in edges_for_cycle_lattice:\n",
    "    ax.plot(x)\n",
    "    \n",
    "ax.set_ylabel(\"Cyclic Tournament Rankings\", fontsize= 20)\n",
    "plt.xlim(0, 1)  \n",
    "plt.yticks(range(len(ranks_cycle)), ranks_cycle)\n",
    "plt.ylim(0, len(ranks_cycle))\n",
    "\n",
    "\n",
    "ax2 = ax.twinx()\n",
    "ax2.set_ylabel(\"Periodic Lattice Tournament Rankings\", fontsize= 20)\n",
    "ax2.set_ylim(0, len(ranks_lattice))\n",
    "plt.yticks(range(len(ranks_lattice)), ranks_lattice)\n",
    "\n",
    "plt.title(\"Player Rankings by Winning Ration in Cyclic vs Periodic Lattice Topologies size 50\", fontsize = 20)\n",
    "plt.savefig(\"/home/nikoleta/src/jobs/images/lines-cyclic-lattice-50\", format='pdf', bbox_inches='tight')"
   ]
  },
  {
   "cell_type": "code",
   "execution_count": 11,
   "metadata": {
    "collapsed": false
   },
   "outputs": [],
   "source": [
    "fig, ax = plt.subplots(figsize=(15,30))\n",
    "\n",
    "for x in edges_for_lattice_round_robin:\n",
    "    ax.plot(x)\n",
    "    \n",
    "ax.set_ylabel(\"Periodic Lattice Tournament Rankings\", fontsize= 20)\n",
    "plt.xlim(0, 1)  \n",
    "plt.yticks(range(len(ranks_lattice)), ranks_lattice)\n",
    "plt.ylim(0, len(ranks_lattice))\n",
    "\n",
    "\n",
    "ax2 = ax.twinx()\n",
    "ax2.set_ylabel(\"Round Robin Tournament Rankings\", fontsize= 20)\n",
    "ax2.set_ylim(0, len(ranks_round_robin))\n",
    "plt.yticks(range(len(ranks_round_robin)), ranks_round_robin)\n",
    "\n",
    "\n",
    "plt.title(\"Player Rankings by Winning Ration in Periodic Lattice vs Round Robin Topologies size 50\", fontsize = 20)\n",
    "plt.savefig(\"/home/nikoleta/src/jobs/images/lines-lattice-round-robin-50.pdf\", format='pdf', bbox_inches='tight')"
   ]
  },
  {
   "cell_type": "code",
   "execution_count": 12,
   "metadata": {
    "collapsed": false
   },
   "outputs": [],
   "source": [
    "fig, ax = plt.subplots(figsize=(15,30))\n",
    "\n",
    "for x in edges_for_cycle_round_robin:\n",
    "    ax.plot(x)\n",
    "    \n",
    "ax.set_ylabel(\"Cyclic Tournament Rankings\", fontsize= 20)\n",
    "plt.xlim(0, 1)  \n",
    "plt.yticks(range(len(ranks_cycle)), ranks_cycle)\n",
    "plt.ylim(0, len(ranks_cycle))\n",
    "\n",
    "\n",
    "ax2 = ax.twinx()\n",
    "ax2.set_ylabel(\"Round Robin Tournament Rankings\", fontsize= 20)\n",
    "ax2.set_ylim(0, len(ranks_round_robin))\n",
    "plt.yticks(range(len(ranks_round_robin)), ranks_round_robin)\n",
    "\n",
    "plt.title(\"Player Rankings by Winning Ration in Cyclic vs Round Robin Topologies size 50\", fontsize = 20)\n",
    "plt.savefig(\"/home/nikoleta/src/jobs/images/lines-cyclic-round-robin-50.pdf\", format='pdf', bbox_inches='tight')"
   ]
  },
  {
   "cell_type": "code",
   "execution_count": null,
   "metadata": {
    "collapsed": true
   },
   "outputs": [],
   "source": []
  }
 ],
 "metadata": {
  "kernelspec": {
   "display_name": "Python 3",
   "language": "python",
   "name": "python3"
  },
  "language_info": {
   "codemirror_mode": {
    "name": "ipython",
    "version": 3
   },
   "file_extension": ".py",
   "mimetype": "text/x-python",
   "name": "python",
   "nbconvert_exporter": "python",
   "pygments_lexer": "ipython3",
   "version": "3.5.1+"
  }
 },
 "nbformat": 4,
 "nbformat_minor": 0
}
