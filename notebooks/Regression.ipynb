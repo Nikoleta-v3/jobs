{
 "cells": [
  {
   "cell_type": "code",
   "execution_count": 1,
   "metadata": {
    "collapsed": true
   },
   "outputs": [],
   "source": [
    "import pandas as pd\n",
    "import numpy as np\n",
    "\n",
    "# stats libraries\n",
    "import statsmodels.formula.api as sm\n",
    "from scipy.stats.stats import pearsonr"
   ]
  },
  {
   "cell_type": "code",
   "execution_count": 6,
   "metadata": {
    "collapsed": true
   },
   "outputs": [],
   "source": [
    "cyclic_five = pd.read_csv(\"/home/nikoleta/src/jobs/data/ch3_experiment/after_analysis/ratio-cyclic-five.csv\")\n",
    "lattice_five = pd.read_csv(\"/home/nikoleta/src/jobs/data/ch3_experiment/after_analysis/ratio-lattice-five.csv\")"
   ]
  },
  {
   "cell_type": "code",
   "execution_count": 7,
   "metadata": {
    "collapsed": true
   },
   "outputs": [],
   "source": [
    "cyclic_fifty = pd.read_csv(\"/home/nikoleta/src/jobs/data/ch3_experiment/after_analysis/ratio-cyclic-fifty.csv\")\n",
    "lattice_fifty = pd.read_csv(\"/home/nikoleta/src/jobs/data/ch3_experiment/after_analysis/ratio-lattice-fifty.csv\")"
   ]
  },
  {
   "cell_type": "code",
   "execution_count": 8,
   "metadata": {
    "collapsed": true
   },
   "outputs": [],
   "source": [
    "data = cyclic_five"
   ]
  },
  {
   "cell_type": "code",
   "execution_count": 9,
   "metadata": {
    "collapsed": false
   },
   "outputs": [
    {
     "data": {
      "text/html": [
       "<table class=\"simpletable\">\n",
       "<caption>OLS Regression Results</caption>\n",
       "<tr>\n",
       "  <th>Dep. Variable:</th>          <td>ratio</td>      <th>  R-squared:         </th> <td>   0.007</td>\n",
       "</tr>\n",
       "<tr>\n",
       "  <th>Model:</th>                   <td>OLS</td>       <th>  Adj. R-squared:    </th> <td>   0.006</td>\n",
       "</tr>\n",
       "<tr>\n",
       "  <th>Method:</th>             <td>Least Squares</td>  <th>  F-statistic:       </th> <td>   17.02</td>\n",
       "</tr>\n",
       "<tr>\n",
       "  <th>Date:</th>             <td>Thu, 11 Aug 2016</td> <th>  Prob (F-statistic):</th> <td>4.32e-08</td>\n",
       "</tr>\n",
       "<tr>\n",
       "  <th>Time:</th>                 <td>15:09:12</td>     <th>  Log-Likelihood:    </th> <td>  3885.5</td>\n",
       "</tr>\n",
       "<tr>\n",
       "  <th>No. Observations:</th>      <td>  5000</td>      <th>  AIC:               </th> <td>  -7765.</td>\n",
       "</tr>\n",
       "<tr>\n",
       "  <th>Df Residuals:</th>          <td>  4997</td>      <th>  BIC:               </th> <td>  -7746.</td>\n",
       "</tr>\n",
       "<tr>\n",
       "  <th>Df Model:</th>              <td>     2</td>      <th>                     </th>     <td> </td>   \n",
       "</tr>\n",
       "<tr>\n",
       "  <th>Covariance Type:</th>      <td>nonrobust</td>    <th>                     </th>     <td> </td>   \n",
       "</tr>\n",
       "</table>\n",
       "<table class=\"simpletable\">\n",
       "<tr>\n",
       "               <td></td>                  <th>coef</th>     <th>std err</th>      <th>t</th>      <th>P>|t|</th> <th>[95.0% Conf. Int.]</th> \n",
       "</tr>\n",
       "<tr>\n",
       "  <th>Intercept</th>                   <td>    0.0344</td> <td>    0.002</td> <td>   20.761</td> <td> 0.000</td> <td>    0.031     0.038</td>\n",
       "</tr>\n",
       "<tr>\n",
       "  <th>degree</th>                      <td>    0.0688</td> <td>    0.003</td> <td>   20.761</td> <td> 0.000</td> <td>    0.062     0.075</td>\n",
       "</tr>\n",
       "<tr>\n",
       "  <th>average_neighboorhood_score</th> <td> 3.239e-06</td> <td> 7.16e-06</td> <td>    0.452</td> <td> 0.651</td> <td>-1.08e-05  1.73e-05</td>\n",
       "</tr>\n",
       "<tr>\n",
       "  <th>clustering</th>                  <td>         0</td> <td>        0</td> <td>      nan</td> <td>   nan</td> <td>        0         0</td>\n",
       "</tr>\n",
       "<tr>\n",
       "  <th>frequency</th>                   <td>    0.0006</td> <td> 9.48e-05</td> <td>    5.804</td> <td> 0.000</td> <td>    0.000     0.001</td>\n",
       "</tr>\n",
       "</table>\n",
       "<table class=\"simpletable\">\n",
       "<tr>\n",
       "  <th>Omnibus:</th>       <td>491.128</td> <th>  Durbin-Watson:     </th> <td>   0.062</td> \n",
       "</tr>\n",
       "<tr>\n",
       "  <th>Prob(Omnibus):</th> <td> 0.000</td>  <th>  Jarque-Bera (JB):  </th> <td> 667.367</td> \n",
       "</tr>\n",
       "<tr>\n",
       "  <th>Skew:</th>          <td> 0.801</td>  <th>  Prob(JB):          </th> <td>1.21e-145</td>\n",
       "</tr>\n",
       "<tr>\n",
       "  <th>Kurtosis:</th>      <td> 3.800</td>  <th>  Cond. No.          </th> <td>     inf</td> \n",
       "</tr>\n",
       "</table>"
      ],
      "text/plain": [
       "<class 'statsmodels.iolib.summary.Summary'>\n",
       "\"\"\"\n",
       "                            OLS Regression Results                            \n",
       "==============================================================================\n",
       "Dep. Variable:                  ratio   R-squared:                       0.007\n",
       "Model:                            OLS   Adj. R-squared:                  0.006\n",
       "Method:                 Least Squares   F-statistic:                     17.02\n",
       "Date:                Thu, 11 Aug 2016   Prob (F-statistic):           4.32e-08\n",
       "Time:                        15:09:12   Log-Likelihood:                 3885.5\n",
       "No. Observations:                5000   AIC:                            -7765.\n",
       "Df Residuals:                    4997   BIC:                            -7746.\n",
       "Df Model:                           2                                         \n",
       "Covariance Type:            nonrobust                                         \n",
       "===============================================================================================\n",
       "                                  coef    std err          t      P>|t|      [95.0% Conf. Int.]\n",
       "-----------------------------------------------------------------------------------------------\n",
       "Intercept                       0.0344      0.002     20.761      0.000         0.031     0.038\n",
       "degree                          0.0688      0.003     20.761      0.000         0.062     0.075\n",
       "average_neighboorhood_score  3.239e-06   7.16e-06      0.452      0.651     -1.08e-05  1.73e-05\n",
       "clustering                           0          0        nan        nan             0         0\n",
       "frequency                       0.0006   9.48e-05      5.804      0.000         0.000     0.001\n",
       "==============================================================================\n",
       "Omnibus:                      491.128   Durbin-Watson:                   0.062\n",
       "Prob(Omnibus):                  0.000   Jarque-Bera (JB):              667.367\n",
       "Skew:                           0.801   Prob(JB):                    1.21e-145\n",
       "Kurtosis:                       3.800   Cond. No.                          inf\n",
       "==============================================================================\n",
       "\n",
       "Warnings:\n",
       "[1] Standard Errors assume that the covariance matrix of the errors is correctly specified.\n",
       "[2] The smallest eigenvalue is      0. This might indicate that there are\n",
       "strong multicollinearity problems or that the design matrix is singular.\n",
       "\"\"\""
      ]
     },
     "execution_count": 9,
     "metadata": {},
     "output_type": "execute_result"
    }
   ],
   "source": [
    "# regression for winning ratio\n",
    "rg= sm.ols(formula=\"ratio ~ degree + average_neighboorhood_score + clustering + frequency \" \n",
    "                    , data=data).fit()\n",
    "rg.summary()"
   ]
  },
  {
   "cell_type": "code",
   "execution_count": 10,
   "metadata": {
    "collapsed": false
   },
   "outputs": [
    {
     "data": {
      "text/html": [
       "<table class=\"simpletable\">\n",
       "<caption>OLS Regression Results</caption>\n",
       "<tr>\n",
       "  <th>Dep. Variable:</th>    <td>normalised_score</td> <th>  R-squared:         </th>  <td>   0.457</td> \n",
       "</tr>\n",
       "<tr>\n",
       "  <th>Model:</th>                   <td>OLS</td>       <th>  Adj. R-squared:    </th>  <td>   0.457</td> \n",
       "</tr>\n",
       "<tr>\n",
       "  <th>Method:</th>             <td>Least Squares</td>  <th>  F-statistic:       </th>  <td>   2101.</td> \n",
       "</tr>\n",
       "<tr>\n",
       "  <th>Date:</th>             <td>Thu, 11 Aug 2016</td> <th>  Prob (F-statistic):</th>   <td>  0.00</td>  \n",
       "</tr>\n",
       "<tr>\n",
       "  <th>Time:</th>                 <td>15:09:16</td>     <th>  Log-Likelihood:    </th>  <td>  10627.</td> \n",
       "</tr>\n",
       "<tr>\n",
       "  <th>No. Observations:</th>      <td>  5000</td>      <th>  AIC:               </th> <td>-2.125e+04</td>\n",
       "</tr>\n",
       "<tr>\n",
       "  <th>Df Residuals:</th>          <td>  4997</td>      <th>  BIC:               </th> <td>-2.123e+04</td>\n",
       "</tr>\n",
       "<tr>\n",
       "  <th>Df Model:</th>              <td>     2</td>      <th>                     </th>      <td> </td>    \n",
       "</tr>\n",
       "<tr>\n",
       "  <th>Covariance Type:</th>      <td>nonrobust</td>    <th>                     </th>      <td> </td>    \n",
       "</tr>\n",
       "</table>\n",
       "<table class=\"simpletable\">\n",
       "<tr>\n",
       "               <td></td>                  <th>coef</th>     <th>std err</th>      <th>t</th>      <th>P>|t|</th> <th>[95.0% Conf. Int.]</th> \n",
       "</tr>\n",
       "<tr>\n",
       "  <th>Intercept</th>                   <td>    0.0280</td> <td>    0.000</td> <td>   64.942</td> <td> 0.000</td> <td>    0.027     0.029</td>\n",
       "</tr>\n",
       "<tr>\n",
       "  <th>degree</th>                      <td>    0.0559</td> <td>    0.001</td> <td>   64.942</td> <td> 0.000</td> <td>    0.054     0.058</td>\n",
       "</tr>\n",
       "<tr>\n",
       "  <th>average_neighboorhood_score</th> <td>-3.763e-06</td> <td> 1.86e-06</td> <td>   -2.024</td> <td> 0.043</td> <td>-7.41e-06 -1.18e-07</td>\n",
       "</tr>\n",
       "<tr>\n",
       "  <th>clustering</th>                  <td>         0</td> <td>        0</td> <td>      nan</td> <td>   nan</td> <td>        0         0</td>\n",
       "</tr>\n",
       "<tr>\n",
       "  <th>frequency</th>                   <td>   -0.0016</td> <td> 2.46e-05</td> <td>  -64.727</td> <td> 0.000</td> <td>   -0.002    -0.002</td>\n",
       "</tr>\n",
       "</table>\n",
       "<table class=\"simpletable\">\n",
       "<tr>\n",
       "  <th>Omnibus:</th>       <td>3175.677</td> <th>  Durbin-Watson:     </th> <td>   0.680</td> \n",
       "</tr>\n",
       "<tr>\n",
       "  <th>Prob(Omnibus):</th>  <td> 0.000</td>  <th>  Jarque-Bera (JB):  </th> <td>86489.849</td>\n",
       "</tr>\n",
       "<tr>\n",
       "  <th>Skew:</th>           <td> 2.585</td>  <th>  Prob(JB):          </th> <td>    0.00</td> \n",
       "</tr>\n",
       "<tr>\n",
       "  <th>Kurtosis:</th>       <td>22.708</td>  <th>  Cond. No.          </th> <td>     inf</td> \n",
       "</tr>\n",
       "</table>"
      ],
      "text/plain": [
       "<class 'statsmodels.iolib.summary.Summary'>\n",
       "\"\"\"\n",
       "                            OLS Regression Results                            \n",
       "==============================================================================\n",
       "Dep. Variable:       normalised_score   R-squared:                       0.457\n",
       "Model:                            OLS   Adj. R-squared:                  0.457\n",
       "Method:                 Least Squares   F-statistic:                     2101.\n",
       "Date:                Thu, 11 Aug 2016   Prob (F-statistic):               0.00\n",
       "Time:                        15:09:16   Log-Likelihood:                 10627.\n",
       "No. Observations:                5000   AIC:                        -2.125e+04\n",
       "Df Residuals:                    4997   BIC:                        -2.123e+04\n",
       "Df Model:                           2                                         \n",
       "Covariance Type:            nonrobust                                         \n",
       "===============================================================================================\n",
       "                                  coef    std err          t      P>|t|      [95.0% Conf. Int.]\n",
       "-----------------------------------------------------------------------------------------------\n",
       "Intercept                       0.0280      0.000     64.942      0.000         0.027     0.029\n",
       "degree                          0.0559      0.001     64.942      0.000         0.054     0.058\n",
       "average_neighboorhood_score -3.763e-06   1.86e-06     -2.024      0.043     -7.41e-06 -1.18e-07\n",
       "clustering                           0          0        nan        nan             0         0\n",
       "frequency                      -0.0016   2.46e-05    -64.727      0.000        -0.002    -0.002\n",
       "==============================================================================\n",
       "Omnibus:                     3175.677   Durbin-Watson:                   0.680\n",
       "Prob(Omnibus):                  0.000   Jarque-Bera (JB):            86489.849\n",
       "Skew:                           2.585   Prob(JB):                         0.00\n",
       "Kurtosis:                      22.708   Cond. No.                          inf\n",
       "==============================================================================\n",
       "\n",
       "Warnings:\n",
       "[1] Standard Errors assume that the covariance matrix of the errors is correctly specified.\n",
       "[2] The smallest eigenvalue is      0. This might indicate that there are\n",
       "strong multicollinearity problems or that the design matrix is singular.\n",
       "\"\"\""
      ]
     },
     "execution_count": 10,
     "metadata": {},
     "output_type": "execute_result"
    }
   ],
   "source": [
    "# regression for average score\n",
    "rg= sm.ols(formula=\"normalised_score ~ degree + average_neighboorhood_score + clustering + frequency \" \n",
    "                    , data=data).fit()\n",
    "rg.summary()"
   ]
  },
  {
   "cell_type": "code",
   "execution_count": null,
   "metadata": {
    "collapsed": true
   },
   "outputs": [],
   "source": []
  }
 ],
 "metadata": {
  "kernelspec": {
   "display_name": "Python 3",
   "language": "python",
   "name": "python3"
  },
  "language_info": {
   "codemirror_mode": {
    "name": "ipython",
    "version": 3
   },
   "file_extension": ".py",
   "mimetype": "text/x-python",
   "name": "python",
   "nbconvert_exporter": "python",
   "pygments_lexer": "ipython3",
   "version": "3.5.1+"
  }
 },
 "nbformat": 4,
 "nbformat_minor": 0
}
