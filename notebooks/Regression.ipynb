{
 "cells": [
  {
   "cell_type": "code",
   "execution_count": 1,
   "metadata": {
    "collapsed": true
   },
   "outputs": [],
   "source": [
    "import pandas as pd\n",
    "import numpy as np\n",
    "\n",
    "# stats libraries\n",
    "import statsmodels.formula.api as sm\n",
    "from scipy.stats.stats import pearsonr"
   ]
  },
  {
   "cell_type": "code",
   "execution_count": 2,
   "metadata": {
    "collapsed": true
   },
   "outputs": [],
   "source": [
    "cyclic_five = pd.read_csv(\"/home/nikoleta/src/jobs/data/ch3_experiment/after_analysis/ratio-cyclic-five.csv\")\n",
    "lattice_five = pd.read_csv(\"/home/nikoleta/src/jobs/data/ch3_experiment/after_analysis/ratio-lattice-five.csv\")"
   ]
  },
  {
   "cell_type": "code",
   "execution_count": 3,
   "metadata": {
    "collapsed": true
   },
   "outputs": [],
   "source": [
    "cyclic_fifty = pd.read_csv(\"/home/nikoleta/src/jobs/data/ch3_experiment/after_analysis/ratio-cyclic-fifty.csv\")\n",
    "lattice_fifty = pd.read_csv(\"/home/nikoleta/src/jobs/data/ch3_experiment/after_analysis/ratio-lattice-fifty.csv\")"
   ]
  },
  {
   "cell_type": "code",
   "execution_count": 11,
   "metadata": {
    "collapsed": true
   },
   "outputs": [],
   "source": [
    "data = lattice_fifty"
   ]
  },
  {
   "cell_type": "code",
   "execution_count": 12,
   "metadata": {
    "collapsed": false
   },
   "outputs": [
    {
     "data": {
      "text/html": [
       "<table class=\"simpletable\">\n",
       "<caption>OLS Regression Results</caption>\n",
       "<tr>\n",
       "  <th>Dep. Variable:</th>          <td>ratio</td>      <th>  R-squared:         </th>  <td>   0.022</td> \n",
       "</tr>\n",
       "<tr>\n",
       "  <th>Model:</th>                   <td>OLS</td>       <th>  Adj. R-squared:    </th>  <td>   0.022</td> \n",
       "</tr>\n",
       "<tr>\n",
       "  <th>Method:</th>             <td>Least Squares</td>  <th>  F-statistic:       </th>  <td>   564.4</td> \n",
       "</tr>\n",
       "<tr>\n",
       "  <th>Date:</th>             <td>Thu, 11 Aug 2016</td> <th>  Prob (F-statistic):</th>  <td>3.99e-243</td>\n",
       "</tr>\n",
       "<tr>\n",
       "  <th>Time:</th>                 <td>20:28:55</td>     <th>  Log-Likelihood:    </th> <td>1.8138e+05</td>\n",
       "</tr>\n",
       "<tr>\n",
       "  <th>No. Observations:</th>      <td> 50000</td>      <th>  AIC:               </th> <td>-3.628e+05</td>\n",
       "</tr>\n",
       "<tr>\n",
       "  <th>Df Residuals:</th>          <td> 49997</td>      <th>  BIC:               </th> <td>-3.627e+05</td>\n",
       "</tr>\n",
       "<tr>\n",
       "  <th>Df Model:</th>              <td>     2</td>      <th>                     </th>      <td> </td>    \n",
       "</tr>\n",
       "<tr>\n",
       "  <th>Covariance Type:</th>      <td>nonrobust</td>    <th>                     </th>      <td> </td>    \n",
       "</tr>\n",
       "</table>\n",
       "<table class=\"simpletable\">\n",
       "<tr>\n",
       "               <td></td>                  <th>coef</th>     <th>std err</th>      <th>t</th>      <th>P>|t|</th> <th>[95.0% Conf. Int.]</th> \n",
       "</tr>\n",
       "<tr>\n",
       "  <th>Intercept</th>                   <td>    0.0008</td> <td> 1.81e-05</td> <td>   42.241</td> <td> 0.000</td> <td>    0.001     0.001</td>\n",
       "</tr>\n",
       "<tr>\n",
       "  <th>degree</th>                      <td>    0.0031</td> <td> 7.22e-05</td> <td>   42.241</td> <td> 0.000</td> <td>    0.003     0.003</td>\n",
       "</tr>\n",
       "<tr>\n",
       "  <th>average_neighboorhood_score</th> <td>-4.549e-07</td> <td> 1.07e-07</td> <td>   -4.244</td> <td> 0.000</td> <td>-6.65e-07 -2.45e-07</td>\n",
       "</tr>\n",
       "<tr>\n",
       "  <th>clustering</th>                  <td>    0.0004</td> <td> 9.03e-06</td> <td>   42.241</td> <td> 0.000</td> <td>    0.000     0.000</td>\n",
       "</tr>\n",
       "<tr>\n",
       "  <th>frequency</th>                   <td> 2.005e-05</td> <td> 6.02e-07</td> <td>   33.305</td> <td> 0.000</td> <td> 1.89e-05  2.12e-05</td>\n",
       "</tr>\n",
       "</table>\n",
       "<table class=\"simpletable\">\n",
       "<tr>\n",
       "  <th>Omnibus:</th>       <td>29.654</td> <th>  Durbin-Watson:     </th> <td>   0.006</td>\n",
       "</tr>\n",
       "<tr>\n",
       "  <th>Prob(Omnibus):</th> <td> 0.000</td> <th>  Jarque-Bera (JB):  </th> <td>  32.795</td>\n",
       "</tr>\n",
       "<tr>\n",
       "  <th>Skew:</th>          <td> 0.017</td> <th>  Prob(JB):          </th> <td>7.56e-08</td>\n",
       "</tr>\n",
       "<tr>\n",
       "  <th>Kurtosis:</th>      <td> 3.121</td> <th>  Cond. No.          </th> <td>3.77e+20</td>\n",
       "</tr>\n",
       "</table>"
      ],
      "text/plain": [
       "<class 'statsmodels.iolib.summary.Summary'>\n",
       "\"\"\"\n",
       "                            OLS Regression Results                            \n",
       "==============================================================================\n",
       "Dep. Variable:                  ratio   R-squared:                       0.022\n",
       "Model:                            OLS   Adj. R-squared:                  0.022\n",
       "Method:                 Least Squares   F-statistic:                     564.4\n",
       "Date:                Thu, 11 Aug 2016   Prob (F-statistic):          3.99e-243\n",
       "Time:                        20:28:55   Log-Likelihood:             1.8138e+05\n",
       "No. Observations:               50000   AIC:                        -3.628e+05\n",
       "Df Residuals:                   49997   BIC:                        -3.627e+05\n",
       "Df Model:                           2                                         \n",
       "Covariance Type:            nonrobust                                         \n",
       "===============================================================================================\n",
       "                                  coef    std err          t      P>|t|      [95.0% Conf. Int.]\n",
       "-----------------------------------------------------------------------------------------------\n",
       "Intercept                       0.0008   1.81e-05     42.241      0.000         0.001     0.001\n",
       "degree                          0.0031   7.22e-05     42.241      0.000         0.003     0.003\n",
       "average_neighboorhood_score -4.549e-07   1.07e-07     -4.244      0.000     -6.65e-07 -2.45e-07\n",
       "clustering                      0.0004   9.03e-06     42.241      0.000         0.000     0.000\n",
       "frequency                    2.005e-05   6.02e-07     33.305      0.000      1.89e-05  2.12e-05\n",
       "==============================================================================\n",
       "Omnibus:                       29.654   Durbin-Watson:                   0.006\n",
       "Prob(Omnibus):                  0.000   Jarque-Bera (JB):               32.795\n",
       "Skew:                           0.017   Prob(JB):                     7.56e-08\n",
       "Kurtosis:                       3.121   Cond. No.                     3.77e+20\n",
       "==============================================================================\n",
       "\n",
       "Warnings:\n",
       "[1] Standard Errors assume that the covariance matrix of the errors is correctly specified.\n",
       "[2] The smallest eigenvalue is 1.36e-30. This might indicate that there are\n",
       "strong multicollinearity problems or that the design matrix is singular.\n",
       "\"\"\""
      ]
     },
     "execution_count": 12,
     "metadata": {},
     "output_type": "execute_result"
    }
   ],
   "source": [
    "# regression for winning ratio\n",
    "rg= sm.ols(formula=\"ratio ~ degree + average_neighboorhood_score + clustering + frequency \" \n",
    "                    , data=data).fit()\n",
    "rg.summary()"
   ]
  },
  {
   "cell_type": "code",
   "execution_count": 6,
   "metadata": {
    "collapsed": false
   },
   "outputs": [
    {
     "data": {
      "text/html": [
       "<table class=\"simpletable\">\n",
       "<caption>OLS Regression Results</caption>\n",
       "<tr>\n",
       "  <th>Dep. Variable:</th>    <td>normalised_score</td> <th>  R-squared:         </th>  <td>   0.457</td> \n",
       "</tr>\n",
       "<tr>\n",
       "  <th>Model:</th>                   <td>OLS</td>       <th>  Adj. R-squared:    </th>  <td>   0.457</td> \n",
       "</tr>\n",
       "<tr>\n",
       "  <th>Method:</th>             <td>Least Squares</td>  <th>  F-statistic:       </th>  <td>   2101.</td> \n",
       "</tr>\n",
       "<tr>\n",
       "  <th>Date:</th>             <td>Thu, 11 Aug 2016</td> <th>  Prob (F-statistic):</th>   <td>  0.00</td>  \n",
       "</tr>\n",
       "<tr>\n",
       "  <th>Time:</th>                 <td>20:23:19</td>     <th>  Log-Likelihood:    </th>  <td>  10627.</td> \n",
       "</tr>\n",
       "<tr>\n",
       "  <th>No. Observations:</th>      <td>  5000</td>      <th>  AIC:               </th> <td>-2.125e+04</td>\n",
       "</tr>\n",
       "<tr>\n",
       "  <th>Df Residuals:</th>          <td>  4997</td>      <th>  BIC:               </th> <td>-2.123e+04</td>\n",
       "</tr>\n",
       "<tr>\n",
       "  <th>Df Model:</th>              <td>     2</td>      <th>                     </th>      <td> </td>    \n",
       "</tr>\n",
       "<tr>\n",
       "  <th>Covariance Type:</th>      <td>nonrobust</td>    <th>                     </th>      <td> </td>    \n",
       "</tr>\n",
       "</table>\n",
       "<table class=\"simpletable\">\n",
       "<tr>\n",
       "               <td></td>                  <th>coef</th>     <th>std err</th>      <th>t</th>      <th>P>|t|</th> <th>[95.0% Conf. Int.]</th> \n",
       "</tr>\n",
       "<tr>\n",
       "  <th>Intercept</th>                   <td>    0.0280</td> <td>    0.000</td> <td>   64.942</td> <td> 0.000</td> <td>    0.027     0.029</td>\n",
       "</tr>\n",
       "<tr>\n",
       "  <th>degree</th>                      <td>    0.0559</td> <td>    0.001</td> <td>   64.942</td> <td> 0.000</td> <td>    0.054     0.058</td>\n",
       "</tr>\n",
       "<tr>\n",
       "  <th>average_neighboorhood_score</th> <td>-3.763e-06</td> <td> 1.86e-06</td> <td>   -2.024</td> <td> 0.043</td> <td>-7.41e-06 -1.18e-07</td>\n",
       "</tr>\n",
       "<tr>\n",
       "  <th>clustering</th>                  <td>         0</td> <td>        0</td> <td>      nan</td> <td>   nan</td> <td>        0         0</td>\n",
       "</tr>\n",
       "<tr>\n",
       "  <th>frequency</th>                   <td>   -0.0016</td> <td> 2.46e-05</td> <td>  -64.727</td> <td> 0.000</td> <td>   -0.002    -0.002</td>\n",
       "</tr>\n",
       "</table>\n",
       "<table class=\"simpletable\">\n",
       "<tr>\n",
       "  <th>Omnibus:</th>       <td>3175.677</td> <th>  Durbin-Watson:     </th> <td>   0.680</td> \n",
       "</tr>\n",
       "<tr>\n",
       "  <th>Prob(Omnibus):</th>  <td> 0.000</td>  <th>  Jarque-Bera (JB):  </th> <td>86489.849</td>\n",
       "</tr>\n",
       "<tr>\n",
       "  <th>Skew:</th>           <td> 2.585</td>  <th>  Prob(JB):          </th> <td>    0.00</td> \n",
       "</tr>\n",
       "<tr>\n",
       "  <th>Kurtosis:</th>       <td>22.708</td>  <th>  Cond. No.          </th> <td>     inf</td> \n",
       "</tr>\n",
       "</table>"
      ],
      "text/plain": [
       "<class 'statsmodels.iolib.summary.Summary'>\n",
       "\"\"\"\n",
       "                            OLS Regression Results                            \n",
       "==============================================================================\n",
       "Dep. Variable:       normalised_score   R-squared:                       0.457\n",
       "Model:                            OLS   Adj. R-squared:                  0.457\n",
       "Method:                 Least Squares   F-statistic:                     2101.\n",
       "Date:                Thu, 11 Aug 2016   Prob (F-statistic):               0.00\n",
       "Time:                        20:23:19   Log-Likelihood:                 10627.\n",
       "No. Observations:                5000   AIC:                        -2.125e+04\n",
       "Df Residuals:                    4997   BIC:                        -2.123e+04\n",
       "Df Model:                           2                                         \n",
       "Covariance Type:            nonrobust                                         \n",
       "===============================================================================================\n",
       "                                  coef    std err          t      P>|t|      [95.0% Conf. Int.]\n",
       "-----------------------------------------------------------------------------------------------\n",
       "Intercept                       0.0280      0.000     64.942      0.000         0.027     0.029\n",
       "degree                          0.0559      0.001     64.942      0.000         0.054     0.058\n",
       "average_neighboorhood_score -3.763e-06   1.86e-06     -2.024      0.043     -7.41e-06 -1.18e-07\n",
       "clustering                           0          0        nan        nan             0         0\n",
       "frequency                      -0.0016   2.46e-05    -64.727      0.000        -0.002    -0.002\n",
       "==============================================================================\n",
       "Omnibus:                     3175.677   Durbin-Watson:                   0.680\n",
       "Prob(Omnibus):                  0.000   Jarque-Bera (JB):            86489.849\n",
       "Skew:                           2.585   Prob(JB):                         0.00\n",
       "Kurtosis:                      22.708   Cond. No.                          inf\n",
       "==============================================================================\n",
       "\n",
       "Warnings:\n",
       "[1] Standard Errors assume that the covariance matrix of the errors is correctly specified.\n",
       "[2] The smallest eigenvalue is      0. This might indicate that there are\n",
       "strong multicollinearity problems or that the design matrix is singular.\n",
       "\"\"\""
      ]
     },
     "execution_count": 6,
     "metadata": {},
     "output_type": "execute_result"
    }
   ],
   "source": [
    "# regression for average score\n",
    "rg= sm.ols(formula=\"normalised_score ~ degree + average_neighboorhood_score + clustering + frequency \" \n",
    "                    , data=data).fit()\n",
    "rg.summary()"
   ]
  },
  {
   "cell_type": "code",
   "execution_count": null,
   "metadata": {
    "collapsed": true
   },
   "outputs": [],
   "source": []
  }
 ],
 "metadata": {
  "kernelspec": {
   "display_name": "Python 3",
   "language": "python",
   "name": "python3"
  },
  "language_info": {
   "codemirror_mode": {
    "name": "ipython",
    "version": 3
   },
   "file_extension": ".py",
   "mimetype": "text/x-python",
   "name": "python",
   "nbconvert_exporter": "python",
   "pygments_lexer": "ipython3",
   "version": "3.5.1+"
  }
 },
 "nbformat": 4,
 "nbformat_minor": 0
}
