{
 "cells": [
  {
   "cell_type": "code",
   "execution_count": 1,
   "metadata": {
    "collapsed": true
   },
   "outputs": [],
   "source": [
    "import pandas as pd\n",
    "import numpy as np"
   ]
  },
  {
   "cell_type": "code",
   "execution_count": 2,
   "metadata": {
    "collapsed": true
   },
   "outputs": [],
   "source": [
    "# visualise library\n",
    "import matplotlib as mpl\n",
    "import matplotlib.pyplot as plt\n",
    "%matplotlib inline\n",
    "from networkx.drawing.nx_agraph import graphviz_layout\n",
    "import seaborn as sns"
   ]
  },
  {
   "cell_type": "code",
   "execution_count": 3,
   "metadata": {
    "collapsed": true
   },
   "outputs": [],
   "source": [
    "# stats libraries\n",
    "import statsmodels.formula.api as sm\n",
    "from scipy.stats.stats import pearsonr"
   ]
  },
  {
   "cell_type": "code",
   "execution_count": 4,
   "metadata": {
    "collapsed": false
   },
   "outputs": [],
   "source": [
    "cycle_five = pd.read_csv(\"/home/nikoleta/src/jobs/data/Cycle_5_players.csv\")\n",
    "cycle_fifty = pd.read_csv(\"/home/nikoleta/src/jobs/data/Cycle_50_players.csv\")"
   ]
  },
  {
   "cell_type": "code",
   "execution_count": 5,
   "metadata": {
    "collapsed": true
   },
   "outputs": [],
   "source": [
    "lattice_five = pd.read_csv(\"/home/nikoleta/src/jobs/data/Lattice_5_players.csv\")\n",
    "lattice_fifty = pd.read_csv(\"/home/nikoleta/src/jobs/data/Lattice_50_players.csv\")"
   ]
  },
  {
   "cell_type": "code",
   "execution_count": 6,
   "metadata": {
    "collapsed": true
   },
   "outputs": [],
   "source": [
    "rr_five = pd.read_csv(\"/home/nikoleta/src/jobs/data/Round_Robin_5.csv\")\n",
    "rr_fifty = pd.read_csv(\"/home/nikoleta/src/jobs/data/Round_Robin_50.csv\")"
   ]
  },
  {
   "cell_type": "code",
   "execution_count": 7,
   "metadata": {
    "collapsed": false
   },
   "outputs": [],
   "source": [
    "#rr_five.describe(), rr_fifty.describe()"
   ]
  },
  {
   "cell_type": "code",
   "execution_count": 8,
   "metadata": {
    "collapsed": false
   },
   "outputs": [],
   "source": [
    "# this is for the round robin ones\n",
    "x = list(range(50))  \n",
    "ranks = [0,1,2,3,4]*100\n",
    "rr_five['ranking']=ranks\n",
    "rr_five['player_name'] = rr_five['winners']"
   ]
  },
  {
   "cell_type": "code",
   "execution_count": 100,
   "metadata": {
    "collapsed": false
   },
   "outputs": [],
   "source": [
    "#cycle_fifty.describe(), cycle_five.describe(), lattice_fifty.describe()\n",
    "#lattice_five.describe(), rr_five.describe()"
   ]
  },
  {
   "cell_type": "code",
   "execution_count": 9,
   "metadata": {
    "collapsed": false
   },
   "outputs": [],
   "source": [
    "data = cycle_fifty\n",
    "name = \"cycle_fifty\""
   ]
  },
  {
   "cell_type": "code",
   "execution_count": 13,
   "metadata": {
    "collapsed": true
   },
   "outputs": [],
   "source": [
    "#for i in range(len(data)):\n",
    "#    if data.player_name=='BackS'"
   ]
  },
  {
   "cell_type": "code",
   "execution_count": 14,
   "metadata": {
    "collapsed": false
   },
   "outputs": [],
   "source": [
    "# Get winning ratio\n",
    "# First we get particapting number\n",
    "data['frequency'] = data.groupby(['player_name'])['seed'].transform('count')"
   ]
  },
  {
   "cell_type": "code",
   "execution_count": 16,
   "metadata": {
    "collapsed": false
   },
   "outputs": [],
   "source": [
    "#crosstab of players and rank \n",
    "players_ranking = pd.crosstab(data.player_name, data.ranking) # players and their ranks"
   ]
  },
  {
   "cell_type": "code",
   "execution_count": 17,
   "metadata": {
    "collapsed": false
   },
   "outputs": [],
   "source": [
    "# Secondly wins\n",
    "temp = players_ranking[0]\n",
    "wins = players_ranking[0][temp]\n",
    "wining = pd.DataFrame({'player_name' : list(players_ranking.index), \n",
    "                               'wins' : players_ranking[0].values})\n",
    "wining.to_csv(\"/home/nikoleta/Desktop/winning_cycle_5.csv\")"
   ]
  },
  {
   "cell_type": "code",
   "execution_count": 19,
   "metadata": {
    "collapsed": false
   },
   "outputs": [],
   "source": [
    "data = pd.merge(data, wining)\n",
    "data['ratio'] = data.wins/data.frequency"
   ]
  },
  {
   "cell_type": "code",
   "execution_count": 28,
   "metadata": {
    "collapsed": false
   },
   "outputs": [
    {
     "data": {
      "text/plain": [
       "0.03870967741935484"
      ]
     },
     "execution_count": 28,
     "metadata": {},
     "output_type": "execute_result"
    }
   ],
   "source": [
    "max(data.ratio)"
   ]
  },
  {
   "cell_type": "code",
   "execution_count": 20,
   "metadata": {
    "collapsed": false
   },
   "outputs": [],
   "source": [
    "data.to_csv(\"/home/nikoleta/Desktop/ratio_cycle_5.csv\")"
   ]
  },
  {
   "cell_type": "code",
   "execution_count": 23,
   "metadata": {
    "collapsed": false
   },
   "outputs": [],
   "source": [
    "# frequency for the ratio\n",
    "freq = pd.value_counts(cycle_five['player_name'])\n",
    "Freq = pd.DataFrame({'player_name' : list(freq.index), \n",
    "                               'freq' : freq.values})\n",
    "#Freq.to_csv(\"/home/nikoleta/Desktop/Freq_50.csv\")"
   ]
  },
  {
   "cell_type": "code",
   "execution_count": 25,
   "metadata": {
    "collapsed": false
   },
   "outputs": [],
   "source": [
    "# ratio\n",
    "ratio = pd.merge(wining,Freq)\n",
    "ratio['ratio'] = ratio.wins/ratio.freq\n",
    "ratio.to_csv(\"/home/nikoleta/Desktop/against.csv\")"
   ]
  },
  {
   "cell_type": "code",
   "execution_count": 82,
   "metadata": {
    "collapsed": true
   },
   "outputs": [],
   "source": [
    "nplayers = len(data['player_name'].unique())\n",
    "width = max(nplayers / 3, 12)\n",
    "height = width / 2\n",
    "spacing = 4\n",
    "positions = spacing * np.arange(1, nplayers + 1, 1)"
   ]
  },
  {
   "cell_type": "code",
   "execution_count": 83,
   "metadata": {
    "collapsed": false
   },
   "outputs": [
    {
     "name": "stderr",
     "output_type": "stream",
     "text": [
      "/home/nikoleta/.local/lib/python3.5/site-packages/ipykernel/__main__.py:1: FutureWarning: sort(columns=....) is deprecated, use sort_values(by=.....)\n",
      "  if __name__ == '__main__':\n"
     ]
    },
    {
     "data": {
      "text/html": [
       "<div>\n",
       "<table border=\"1\" class=\"dataframe\">\n",
       "  <thead>\n",
       "    <tr style=\"text-align: right;\">\n",
       "      <th></th>\n",
       "      <th>player_name</th>\n",
       "      <th>wins</th>\n",
       "      <th>freq</th>\n",
       "      <th>ratio</th>\n",
       "    </tr>\n",
       "  </thead>\n",
       "  <tbody>\n",
       "    <tr>\n",
       "      <th>95</th>\n",
       "      <td>Retaliate (0.05)</td>\n",
       "      <td>1</td>\n",
       "      <td>40</td>\n",
       "      <td>0.025000</td>\n",
       "    </tr>\n",
       "    <tr>\n",
       "      <th>106</th>\n",
       "      <td>Soft Go By Majority: 40</td>\n",
       "      <td>2</td>\n",
       "      <td>70</td>\n",
       "      <td>0.028571</td>\n",
       "    </tr>\n",
       "    <tr>\n",
       "      <th>40</th>\n",
       "      <td>Forgetful Fool Me Once</td>\n",
       "      <td>1</td>\n",
       "      <td>30</td>\n",
       "      <td>0.033333</td>\n",
       "    </tr>\n",
       "    <tr>\n",
       "      <th>10</th>\n",
       "      <td>Anti Tit For Tat</td>\n",
       "      <td>2</td>\n",
       "      <td>30</td>\n",
       "      <td>0.066667</td>\n",
       "    </tr>\n",
       "    <tr>\n",
       "      <th>25</th>\n",
       "      <td>Cycler CCCD</td>\n",
       "      <td>2</td>\n",
       "      <td>30</td>\n",
       "      <td>0.066667</td>\n",
       "    </tr>\n",
       "    <tr>\n",
       "      <th>130</th>\n",
       "      <td>ZD-GTFT-2</td>\n",
       "      <td>4</td>\n",
       "      <td>50</td>\n",
       "      <td>0.080000</td>\n",
       "    </tr>\n",
       "    <tr>\n",
       "      <th>26</th>\n",
       "      <td>Cycler CCD</td>\n",
       "      <td>4</td>\n",
       "      <td>50</td>\n",
       "      <td>0.080000</td>\n",
       "    </tr>\n",
       "    <tr>\n",
       "      <th>63</th>\n",
       "      <td>Joss: 0.9</td>\n",
       "      <td>5</td>\n",
       "      <td>60</td>\n",
       "      <td>0.083333</td>\n",
       "    </tr>\n",
       "    <tr>\n",
       "      <th>59</th>\n",
       "      <td>Hard Tit For Tat</td>\n",
       "      <td>5</td>\n",
       "      <td>60</td>\n",
       "      <td>0.083333</td>\n",
       "    </tr>\n",
       "    <tr>\n",
       "      <th>79</th>\n",
       "      <td>Naive Prober: 0.1</td>\n",
       "      <td>5</td>\n",
       "      <td>60</td>\n",
       "      <td>0.083333</td>\n",
       "    </tr>\n",
       "    <tr>\n",
       "      <th>101</th>\n",
       "      <td>Slow Tit For Two Tats</td>\n",
       "      <td>8</td>\n",
       "      <td>90</td>\n",
       "      <td>0.088889</td>\n",
       "    </tr>\n",
       "    <tr>\n",
       "      <th>76</th>\n",
       "      <td>Meta Winner Finite Memory</td>\n",
       "      <td>5</td>\n",
       "      <td>50</td>\n",
       "      <td>0.100000</td>\n",
       "    </tr>\n",
       "    <tr>\n",
       "      <th>65</th>\n",
       "      <td>Limited Retaliate (0.08/15)</td>\n",
       "      <td>5</td>\n",
       "      <td>50</td>\n",
       "      <td>0.100000</td>\n",
       "    </tr>\n",
       "    <tr>\n",
       "      <th>110</th>\n",
       "      <td>SolutionB1</td>\n",
       "      <td>5</td>\n",
       "      <td>50</td>\n",
       "      <td>0.100000</td>\n",
       "    </tr>\n",
       "    <tr>\n",
       "      <th>58</th>\n",
       "      <td>Hard Tit For 2 Tats</td>\n",
       "      <td>4</td>\n",
       "      <td>40</td>\n",
       "      <td>0.100000</td>\n",
       "    </tr>\n",
       "    <tr>\n",
       "      <th>77</th>\n",
       "      <td>Meta Winner Long Memory</td>\n",
       "      <td>5</td>\n",
       "      <td>50</td>\n",
       "      <td>0.100000</td>\n",
       "    </tr>\n",
       "    <tr>\n",
       "      <th>50</th>\n",
       "      <td>Grumpy</td>\n",
       "      <td>5</td>\n",
       "      <td>50</td>\n",
       "      <td>0.100000</td>\n",
       "    </tr>\n",
       "    <tr>\n",
       "      <th>124</th>\n",
       "      <td>Win-Shift Lose-Stay</td>\n",
       "      <td>3</td>\n",
       "      <td>30</td>\n",
       "      <td>0.100000</td>\n",
       "    </tr>\n",
       "    <tr>\n",
       "      <th>52</th>\n",
       "      <td>Hard Go By Majority</td>\n",
       "      <td>4</td>\n",
       "      <td>40</td>\n",
       "      <td>0.100000</td>\n",
       "    </tr>\n",
       "    <tr>\n",
       "      <th>33</th>\n",
       "      <td>Eatherley</td>\n",
       "      <td>4</td>\n",
       "      <td>40</td>\n",
       "      <td>0.100000</td>\n",
       "    </tr>\n",
       "    <tr>\n",
       "      <th>69</th>\n",
       "      <td>Meta Majority</td>\n",
       "      <td>6</td>\n",
       "      <td>60</td>\n",
       "      <td>0.100000</td>\n",
       "    </tr>\n",
       "    <tr>\n",
       "      <th>53</th>\n",
       "      <td>Hard Go By Majority: 10</td>\n",
       "      <td>7</td>\n",
       "      <td>60</td>\n",
       "      <td>0.116667</td>\n",
       "    </tr>\n",
       "    <tr>\n",
       "      <th>12</th>\n",
       "      <td>Appeaser</td>\n",
       "      <td>7</td>\n",
       "      <td>60</td>\n",
       "      <td>0.116667</td>\n",
       "    </tr>\n",
       "    <tr>\n",
       "      <th>19</th>\n",
       "      <td>Champion</td>\n",
       "      <td>7</td>\n",
       "      <td>60</td>\n",
       "      <td>0.116667</td>\n",
       "    </tr>\n",
       "    <tr>\n",
       "      <th>93</th>\n",
       "      <td>Random: 0.5</td>\n",
       "      <td>6</td>\n",
       "      <td>50</td>\n",
       "      <td>0.120000</td>\n",
       "    </tr>\n",
       "    <tr>\n",
       "      <th>129</th>\n",
       "      <td>ZD-GEN-2</td>\n",
       "      <td>6</td>\n",
       "      <td>50</td>\n",
       "      <td>0.120000</td>\n",
       "    </tr>\n",
       "    <tr>\n",
       "      <th>105</th>\n",
       "      <td>Soft Go By Majority: 20</td>\n",
       "      <td>6</td>\n",
       "      <td>50</td>\n",
       "      <td>0.120000</td>\n",
       "    </tr>\n",
       "    <tr>\n",
       "      <th>57</th>\n",
       "      <td>Hard Prober</td>\n",
       "      <td>5</td>\n",
       "      <td>40</td>\n",
       "      <td>0.125000</td>\n",
       "    </tr>\n",
       "    <tr>\n",
       "      <th>54</th>\n",
       "      <td>Hard Go By Majority: 20</td>\n",
       "      <td>9</td>\n",
       "      <td>70</td>\n",
       "      <td>0.128571</td>\n",
       "    </tr>\n",
       "    <tr>\n",
       "      <th>41</th>\n",
       "      <td>Forgetful Grudger</td>\n",
       "      <td>8</td>\n",
       "      <td>60</td>\n",
       "      <td>0.133333</td>\n",
       "    </tr>\n",
       "    <tr>\n",
       "      <th>...</th>\n",
       "      <td>...</td>\n",
       "      <td>...</td>\n",
       "      <td>...</td>\n",
       "      <td>...</td>\n",
       "    </tr>\n",
       "    <tr>\n",
       "      <th>94</th>\n",
       "      <td>Remorseful Prober: 0.1</td>\n",
       "      <td>6</td>\n",
       "      <td>20</td>\n",
       "      <td>0.300000</td>\n",
       "    </tr>\n",
       "    <tr>\n",
       "      <th>55</th>\n",
       "      <td>Hard Go By Majority: 40</td>\n",
       "      <td>9</td>\n",
       "      <td>30</td>\n",
       "      <td>0.300000</td>\n",
       "    </tr>\n",
       "    <tr>\n",
       "      <th>22</th>\n",
       "      <td>Cooperator Hunter</td>\n",
       "      <td>12</td>\n",
       "      <td>40</td>\n",
       "      <td>0.300000</td>\n",
       "    </tr>\n",
       "    <tr>\n",
       "      <th>103</th>\n",
       "      <td>Soft Go By Majority</td>\n",
       "      <td>10</td>\n",
       "      <td>30</td>\n",
       "      <td>0.333333</td>\n",
       "    </tr>\n",
       "    <tr>\n",
       "      <th>38</th>\n",
       "      <td>Fool Me Forever</td>\n",
       "      <td>10</td>\n",
       "      <td>30</td>\n",
       "      <td>0.333333</td>\n",
       "    </tr>\n",
       "    <tr>\n",
       "      <th>45</th>\n",
       "      <td>Fortress4</td>\n",
       "      <td>10</td>\n",
       "      <td>30</td>\n",
       "      <td>0.333333</td>\n",
       "    </tr>\n",
       "    <tr>\n",
       "      <th>87</th>\n",
       "      <td>Prober</td>\n",
       "      <td>7</td>\n",
       "      <td>20</td>\n",
       "      <td>0.350000</td>\n",
       "    </tr>\n",
       "    <tr>\n",
       "      <th>109</th>\n",
       "      <td>Soft Joss: 0.9</td>\n",
       "      <td>14</td>\n",
       "      <td>40</td>\n",
       "      <td>0.350000</td>\n",
       "    </tr>\n",
       "    <tr>\n",
       "      <th>116</th>\n",
       "      <td>ThueMorseInverse</td>\n",
       "      <td>7</td>\n",
       "      <td>20</td>\n",
       "      <td>0.350000</td>\n",
       "    </tr>\n",
       "    <tr>\n",
       "      <th>120</th>\n",
       "      <td>Tricky Cooperator</td>\n",
       "      <td>4</td>\n",
       "      <td>10</td>\n",
       "      <td>0.400000</td>\n",
       "    </tr>\n",
       "    <tr>\n",
       "      <th>6</th>\n",
       "      <td>Adaptive</td>\n",
       "      <td>4</td>\n",
       "      <td>10</td>\n",
       "      <td>0.400000</td>\n",
       "    </tr>\n",
       "    <tr>\n",
       "      <th>2</th>\n",
       "      <td>$e$</td>\n",
       "      <td>12</td>\n",
       "      <td>30</td>\n",
       "      <td>0.400000</td>\n",
       "    </tr>\n",
       "    <tr>\n",
       "      <th>5</th>\n",
       "      <td>Adapative Pavlov 2011</td>\n",
       "      <td>9</td>\n",
       "      <td>20</td>\n",
       "      <td>0.450000</td>\n",
       "    </tr>\n",
       "    <tr>\n",
       "      <th>56</th>\n",
       "      <td>Hard Go By Majority: 5</td>\n",
       "      <td>9</td>\n",
       "      <td>20</td>\n",
       "      <td>0.450000</td>\n",
       "    </tr>\n",
       "    <tr>\n",
       "      <th>111</th>\n",
       "      <td>SolutionB5</td>\n",
       "      <td>9</td>\n",
       "      <td>20</td>\n",
       "      <td>0.450000</td>\n",
       "    </tr>\n",
       "    <tr>\n",
       "      <th>96</th>\n",
       "      <td>Retaliate (0.08)</td>\n",
       "      <td>10</td>\n",
       "      <td>20</td>\n",
       "      <td>0.500000</td>\n",
       "    </tr>\n",
       "    <tr>\n",
       "      <th>15</th>\n",
       "      <td>BackStabber</td>\n",
       "      <td>10</td>\n",
       "      <td>20</td>\n",
       "      <td>0.500000</td>\n",
       "    </tr>\n",
       "    <tr>\n",
       "      <th>30</th>\n",
       "      <td>Defector</td>\n",
       "      <td>10</td>\n",
       "      <td>20</td>\n",
       "      <td>0.500000</td>\n",
       "    </tr>\n",
       "    <tr>\n",
       "      <th>16</th>\n",
       "      <td>Bully</td>\n",
       "      <td>10</td>\n",
       "      <td>20</td>\n",
       "      <td>0.500000</td>\n",
       "    </tr>\n",
       "    <tr>\n",
       "      <th>114</th>\n",
       "      <td>Tester</td>\n",
       "      <td>11</td>\n",
       "      <td>20</td>\n",
       "      <td>0.550000</td>\n",
       "    </tr>\n",
       "    <tr>\n",
       "      <th>46</th>\n",
       "      <td>GTFT: 0.33</td>\n",
       "      <td>11</td>\n",
       "      <td>20</td>\n",
       "      <td>0.550000</td>\n",
       "    </tr>\n",
       "    <tr>\n",
       "      <th>47</th>\n",
       "      <td>Gradual</td>\n",
       "      <td>11</td>\n",
       "      <td>20</td>\n",
       "      <td>0.550000</td>\n",
       "    </tr>\n",
       "    <tr>\n",
       "      <th>115</th>\n",
       "      <td>ThueMorse</td>\n",
       "      <td>11</td>\n",
       "      <td>20</td>\n",
       "      <td>0.550000</td>\n",
       "    </tr>\n",
       "    <tr>\n",
       "      <th>28</th>\n",
       "      <td>Cycler DDC</td>\n",
       "      <td>6</td>\n",
       "      <td>10</td>\n",
       "      <td>0.600000</td>\n",
       "    </tr>\n",
       "    <tr>\n",
       "      <th>44</th>\n",
       "      <td>Fortress3</td>\n",
       "      <td>14</td>\n",
       "      <td>20</td>\n",
       "      <td>0.700000</td>\n",
       "    </tr>\n",
       "    <tr>\n",
       "      <th>92</th>\n",
       "      <td>Random Hunter</td>\n",
       "      <td>9</td>\n",
       "      <td>10</td>\n",
       "      <td>0.900000</td>\n",
       "    </tr>\n",
       "    <tr>\n",
       "      <th>18</th>\n",
       "      <td>Cautious QLearner</td>\n",
       "      <td>9</td>\n",
       "      <td>10</td>\n",
       "      <td>0.900000</td>\n",
       "    </tr>\n",
       "    <tr>\n",
       "      <th>7</th>\n",
       "      <td>Aggravater</td>\n",
       "      <td>10</td>\n",
       "      <td>10</td>\n",
       "      <td>1.000000</td>\n",
       "    </tr>\n",
       "    <tr>\n",
       "      <th>117</th>\n",
       "      <td>Thumper</td>\n",
       "      <td>11</td>\n",
       "      <td>10</td>\n",
       "      <td>1.100000</td>\n",
       "    </tr>\n",
       "    <tr>\n",
       "      <th>91</th>\n",
       "      <td>Raider</td>\n",
       "      <td>13</td>\n",
       "      <td>10</td>\n",
       "      <td>1.300000</td>\n",
       "    </tr>\n",
       "  </tbody>\n",
       "</table>\n",
       "<p>132 rows × 4 columns</p>\n",
       "</div>"
      ],
      "text/plain": [
       "                     player_name  wins  freq     ratio\n",
       "95              Retaliate (0.05)     1    40  0.025000\n",
       "106      Soft Go By Majority: 40     2    70  0.028571\n",
       "40        Forgetful Fool Me Once     1    30  0.033333\n",
       "10              Anti Tit For Tat     2    30  0.066667\n",
       "25                   Cycler CCCD     2    30  0.066667\n",
       "130                    ZD-GTFT-2     4    50  0.080000\n",
       "26                    Cycler CCD     4    50  0.080000\n",
       "63                     Joss: 0.9     5    60  0.083333\n",
       "59              Hard Tit For Tat     5    60  0.083333\n",
       "79             Naive Prober: 0.1     5    60  0.083333\n",
       "101        Slow Tit For Two Tats     8    90  0.088889\n",
       "76     Meta Winner Finite Memory     5    50  0.100000\n",
       "65   Limited Retaliate (0.08/15)     5    50  0.100000\n",
       "110                   SolutionB1     5    50  0.100000\n",
       "58           Hard Tit For 2 Tats     4    40  0.100000\n",
       "77       Meta Winner Long Memory     5    50  0.100000\n",
       "50                        Grumpy     5    50  0.100000\n",
       "124          Win-Shift Lose-Stay     3    30  0.100000\n",
       "52           Hard Go By Majority     4    40  0.100000\n",
       "33                     Eatherley     4    40  0.100000\n",
       "69                 Meta Majority     6    60  0.100000\n",
       "53       Hard Go By Majority: 10     7    60  0.116667\n",
       "12                      Appeaser     7    60  0.116667\n",
       "19                      Champion     7    60  0.116667\n",
       "93                   Random: 0.5     6    50  0.120000\n",
       "129                     ZD-GEN-2     6    50  0.120000\n",
       "105      Soft Go By Majority: 20     6    50  0.120000\n",
       "57                   Hard Prober     5    40  0.125000\n",
       "54       Hard Go By Majority: 20     9    70  0.128571\n",
       "41             Forgetful Grudger     8    60  0.133333\n",
       "..                           ...   ...   ...       ...\n",
       "94        Remorseful Prober: 0.1     6    20  0.300000\n",
       "55       Hard Go By Majority: 40     9    30  0.300000\n",
       "22             Cooperator Hunter    12    40  0.300000\n",
       "103          Soft Go By Majority    10    30  0.333333\n",
       "38               Fool Me Forever    10    30  0.333333\n",
       "45                     Fortress4    10    30  0.333333\n",
       "87                        Prober     7    20  0.350000\n",
       "109               Soft Joss: 0.9    14    40  0.350000\n",
       "116             ThueMorseInverse     7    20  0.350000\n",
       "120            Tricky Cooperator     4    10  0.400000\n",
       "6                       Adaptive     4    10  0.400000\n",
       "2                            $e$    12    30  0.400000\n",
       "5          Adapative Pavlov 2011     9    20  0.450000\n",
       "56        Hard Go By Majority: 5     9    20  0.450000\n",
       "111                   SolutionB5     9    20  0.450000\n",
       "96              Retaliate (0.08)    10    20  0.500000\n",
       "15                   BackStabber    10    20  0.500000\n",
       "30                      Defector    10    20  0.500000\n",
       "16                         Bully    10    20  0.500000\n",
       "114                       Tester    11    20  0.550000\n",
       "46                    GTFT: 0.33    11    20  0.550000\n",
       "47                       Gradual    11    20  0.550000\n",
       "115                    ThueMorse    11    20  0.550000\n",
       "28                    Cycler DDC     6    10  0.600000\n",
       "44                     Fortress3    14    20  0.700000\n",
       "92                 Random Hunter     9    10  0.900000\n",
       "18             Cautious QLearner     9    10  0.900000\n",
       "7                     Aggravater    10    10  1.000000\n",
       "117                      Thumper    11    10  1.100000\n",
       "91                        Raider    13    10  1.300000\n",
       "\n",
       "[132 rows x 4 columns]"
      ]
     },
     "execution_count": 83,
     "metadata": {},
     "output_type": "execute_result"
    }
   ],
   "source": [
    "ratio = ratio.sort('ratio')\n",
    "names = ratio.player_name\n",
    "ratio.to_csv(\"/home/nikoleta/Desktop/{}-ratio.csv\".format(name))\n",
    "ratio"
   ]
  },
  {
   "cell_type": "code",
   "execution_count": null,
   "metadata": {
    "collapsed": false,
    "scrolled": true
   },
   "outputs": [],
   "source": [
    "# barplot\n",
    "figure = plt.figure(figsize=(width, height))\n",
    "plt.xticks(positions, names, rotation=90)\n",
    "plt.xlim(0, spacing * (nplayers + 1))\n",
    "plt.tick_params(axis='both', which='both', labelsize=8)\n",
    "sns.barplot(data= ratio, x = 'player_name', y='ratio', palette=\"Blues_d\")\n",
    "\n",
    "plt.title('Winning Ratio Lattice s=5', fontsize= 70)\n",
    "plt.savefig(\"/home/nikoleta/Desktop/Images/winners-{}.pdf\".format(name), format='pdf')"
   ]
  },
  {
   "cell_type": "code",
   "execution_count": null,
   "metadata": {
    "collapsed": false
   },
   "outputs": [],
   "source": [
    "figure = plt.figure(figsize=(width, height))\n",
    "plot = sns.regplot(x='freq', y='ratio', data=ratio, scatter_kws={'s':500})\n",
    "plt.xlabel('Number that a strategy has participated in a tournament', fontsize =  70)\n",
    "plt.ylabel('Winning ratio', fontsize = 70)\n",
    "plt.title('Winning ratio against number of participations Round Robin s=50', fontsize = 70)\n",
    "plt.savefig(\"/home/nikoleta/Desktop/Images/wining-ratio-{}.pdf\".format(name), format='pdf')"
   ]
  },
  {
   "cell_type": "code",
   "execution_count": 15,
   "metadata": {
    "collapsed": false
   },
   "outputs": [],
   "source": [
    "# normilizes score\n",
    "data['normalised_score'] = data.average_score/data.frequency"
   ]
  },
  {
   "cell_type": "code",
   "execution_count": null,
   "metadata": {
    "collapsed": false
   },
   "outputs": [],
   "source": [
    "grouped = data.groupby([\"player_name\"])\n",
    "temp = pd.DataFrame({col:vals['normalised_score'] for col,vals in grouped})\n",
    "meds = temp.median()\n",
    "meds.sort(ascending=False)\n",
    "temp = temp[meds.index]"
   ]
  },
  {
   "cell_type": "code",
   "execution_count": null,
   "metadata": {
    "collapsed": false
   },
   "outputs": [],
   "source": [
    "figure = plt.figure(figsize=(width, height))\n",
    "plt.xticks(positions, rotation=90)\n",
    "plt.xlim(0, spacing * (nplayers + 1))\n",
    "plt.tick_params(axis='both', which='both', labelsize=8)\n",
    "temp.boxplot(rot=90, widths = 0.9)\n",
    "plt.xlabel('Strategies', fontsize=70)\n",
    "plt.ylabel('Normalised Average Score', fontsize=70)\n",
    "plt.title('Box plot for normalised average score Round Robin s=50', fontsize=70)\n",
    "plt.savefig(\"/home/nikoleta/Desktop/Images/box-plot-{}.pdf\".format(name), format='pdf')"
   ]
  },
  {
   "cell_type": "code",
   "execution_count": null,
   "metadata": {
    "collapsed": false
   },
   "outputs": [],
   "source": [
    "grouped = data.groupby([\"frequency\"])\n",
    "temp = pd.DataFrame({col:vals['normalised_score'] for col,vals in grouped})\n",
    "meds = temp.median()\n",
    "meds.sort(ascending=False)\n",
    "temp = temp[meds.index]"
   ]
  },
  {
   "cell_type": "code",
   "execution_count": null,
   "metadata": {
    "collapsed": false
   },
   "outputs": [],
   "source": [
    "figure = plt.figure(figsize=(width, height))\n",
    "plt.xticks(positions, rotation=90)\n",
    "plt.xlim(0, spacing * (nplayers + 1))\n",
    "plt.tick_params(axis='both', which='both', labelsize=8)\n",
    "temp.boxplot(rot=90, widths = 0.9)\n",
    "plt.xlabel('Participations', fontsize=70)\n",
    "plt.ylabel('Normalised Average Score', fontsize=70)\n",
    "plt.title('Box plot for normalised average score Lattice s=50', fontsize=70)\n",
    "plt.savefig(\"/home/nikoleta/Desktop/Images/av-score-part-{}.pdf\".format(name), format='pdf')"
   ]
  },
  {
   "cell_type": "code",
   "execution_count": 16,
   "metadata": {
    "collapsed": false
   },
   "outputs": [],
   "source": [
    "# regression\n",
    "\n",
    "rg= sm.ols(formula=\"normalised_score ~ degree + average_neighboorhood_score + clustering + frequency \" , data=data).fit()\n"
   ]
  },
  {
   "cell_type": "code",
   "execution_count": 17,
   "metadata": {
    "collapsed": false
   },
   "outputs": [
    {
     "data": {
      "text/html": [
       "<table class=\"simpletable\">\n",
       "<caption>OLS Regression Results</caption>\n",
       "<tr>\n",
       "  <th>Dep. Variable:</th>    <td>normalised_score</td> <th>  R-squared:         </th>  <td>   0.457</td> \n",
       "</tr>\n",
       "<tr>\n",
       "  <th>Model:</th>                   <td>OLS</td>       <th>  Adj. R-squared:    </th>  <td>   0.457</td> \n",
       "</tr>\n",
       "<tr>\n",
       "  <th>Method:</th>             <td>Least Squares</td>  <th>  F-statistic:       </th>  <td>   2101.</td> \n",
       "</tr>\n",
       "<tr>\n",
       "  <th>Date:</th>             <td>Thu, 04 Aug 2016</td> <th>  Prob (F-statistic):</th>   <td>  0.00</td>  \n",
       "</tr>\n",
       "<tr>\n",
       "  <th>Time:</th>                 <td>01:58:41</td>     <th>  Log-Likelihood:    </th>  <td>  10627.</td> \n",
       "</tr>\n",
       "<tr>\n",
       "  <th>No. Observations:</th>      <td>  5000</td>      <th>  AIC:               </th> <td>-2.125e+04</td>\n",
       "</tr>\n",
       "<tr>\n",
       "  <th>Df Residuals:</th>          <td>  4997</td>      <th>  BIC:               </th> <td>-2.123e+04</td>\n",
       "</tr>\n",
       "<tr>\n",
       "  <th>Df Model:</th>              <td>     2</td>      <th>                     </th>      <td> </td>    \n",
       "</tr>\n",
       "<tr>\n",
       "  <th>Covariance Type:</th>      <td>nonrobust</td>    <th>                     </th>      <td> </td>    \n",
       "</tr>\n",
       "</table>\n",
       "<table class=\"simpletable\">\n",
       "<tr>\n",
       "               <td></td>                  <th>coef</th>     <th>std err</th>      <th>t</th>      <th>P>|t|</th> <th>[95.0% Conf. Int.]</th> \n",
       "</tr>\n",
       "<tr>\n",
       "  <th>Intercept</th>                   <td>    0.0280</td> <td>    0.000</td> <td>   64.942</td> <td> 0.000</td> <td>    0.027     0.029</td>\n",
       "</tr>\n",
       "<tr>\n",
       "  <th>degree</th>                      <td>    0.0559</td> <td>    0.001</td> <td>   64.942</td> <td> 0.000</td> <td>    0.054     0.058</td>\n",
       "</tr>\n",
       "<tr>\n",
       "  <th>average_neighboorhood_score</th> <td>-3.763e-06</td> <td> 1.86e-06</td> <td>   -2.024</td> <td> 0.043</td> <td>-7.41e-06 -1.18e-07</td>\n",
       "</tr>\n",
       "<tr>\n",
       "  <th>clustering</th>                  <td>         0</td> <td>        0</td> <td>      nan</td> <td>   nan</td> <td>        0         0</td>\n",
       "</tr>\n",
       "<tr>\n",
       "  <th>frequency</th>                   <td>   -0.0016</td> <td> 2.46e-05</td> <td>  -64.727</td> <td> 0.000</td> <td>   -0.002    -0.002</td>\n",
       "</tr>\n",
       "</table>\n",
       "<table class=\"simpletable\">\n",
       "<tr>\n",
       "  <th>Omnibus:</th>       <td>3175.677</td> <th>  Durbin-Watson:     </th> <td>   1.989</td> \n",
       "</tr>\n",
       "<tr>\n",
       "  <th>Prob(Omnibus):</th>  <td> 0.000</td>  <th>  Jarque-Bera (JB):  </th> <td>86489.849</td>\n",
       "</tr>\n",
       "<tr>\n",
       "  <th>Skew:</th>           <td> 2.585</td>  <th>  Prob(JB):          </th> <td>    0.00</td> \n",
       "</tr>\n",
       "<tr>\n",
       "  <th>Kurtosis:</th>       <td>22.708</td>  <th>  Cond. No.          </th> <td>     inf</td> \n",
       "</tr>\n",
       "</table>"
      ],
      "text/plain": [
       "<class 'statsmodels.iolib.summary.Summary'>\n",
       "\"\"\"\n",
       "                            OLS Regression Results                            \n",
       "==============================================================================\n",
       "Dep. Variable:       normalised_score   R-squared:                       0.457\n",
       "Model:                            OLS   Adj. R-squared:                  0.457\n",
       "Method:                 Least Squares   F-statistic:                     2101.\n",
       "Date:                Thu, 04 Aug 2016   Prob (F-statistic):               0.00\n",
       "Time:                        01:58:41   Log-Likelihood:                 10627.\n",
       "No. Observations:                5000   AIC:                        -2.125e+04\n",
       "Df Residuals:                    4997   BIC:                        -2.123e+04\n",
       "Df Model:                           2                                         \n",
       "Covariance Type:            nonrobust                                         \n",
       "===============================================================================================\n",
       "                                  coef    std err          t      P>|t|      [95.0% Conf. Int.]\n",
       "-----------------------------------------------------------------------------------------------\n",
       "Intercept                       0.0280      0.000     64.942      0.000         0.027     0.029\n",
       "degree                          0.0559      0.001     64.942      0.000         0.054     0.058\n",
       "average_neighboorhood_score -3.763e-06   1.86e-06     -2.024      0.043     -7.41e-06 -1.18e-07\n",
       "clustering                           0          0        nan        nan             0         0\n",
       "frequency                      -0.0016   2.46e-05    -64.727      0.000        -0.002    -0.002\n",
       "==============================================================================\n",
       "Omnibus:                     3175.677   Durbin-Watson:                   1.989\n",
       "Prob(Omnibus):                  0.000   Jarque-Bera (JB):            86489.849\n",
       "Skew:                           2.585   Prob(JB):                         0.00\n",
       "Kurtosis:                      22.708   Cond. No.                          inf\n",
       "==============================================================================\n",
       "\n",
       "Warnings:\n",
       "[1] Standard Errors assume that the covariance matrix of the errors is correctly specified.\n",
       "[2] The smallest eigenvalue is      0. This might indicate that there are\n",
       "strong multicollinearity problems or that the design matrix is singular.\n",
       "\"\"\""
      ]
     },
     "execution_count": 17,
     "metadata": {},
     "output_type": "execute_result"
    }
   ],
   "source": [
    "rg.summary()"
   ]
  },
  {
   "cell_type": "code",
   "execution_count": 39,
   "metadata": {
    "collapsed": false
   },
   "outputs": [],
   "source": [
    "for i in range(len(data)):\n",
    "    temp = data.player_name[i] == ratio.player_name\n",
    "    x.append(ratio.ratio[temp])"
   ]
  },
  {
   "cell_type": "code",
   "execution_count": 68,
   "metadata": {
    "collapsed": false
   },
   "outputs": [
    {
     "data": {
      "text/html": [
       "<div>\n",
       "<table border=\"1\" class=\"dataframe\">\n",
       "  <thead>\n",
       "    <tr style=\"text-align: right;\">\n",
       "      <th></th>\n",
       "      <th>players_list</th>\n",
       "      <th>seed</th>\n",
       "      <th>parameter</th>\n",
       "      <th>player_name</th>\n",
       "      <th>player_index</th>\n",
       "      <th>degree</th>\n",
       "      <th>neighbors</th>\n",
       "      <th>neighborhood_size</th>\n",
       "      <th>ranking</th>\n",
       "      <th>scores</th>\n",
       "      <th>...</th>\n",
       "      <th>R</th>\n",
       "      <th>P</th>\n",
       "      <th>S</th>\n",
       "      <th>T</th>\n",
       "      <th>clustering</th>\n",
       "      <th>connectivity</th>\n",
       "      <th>cliques</th>\n",
       "      <th>frequency</th>\n",
       "      <th>normalised_score</th>\n",
       "      <th>ratio</th>\n",
       "    </tr>\n",
       "  </thead>\n",
       "  <tbody>\n",
       "    <tr>\n",
       "      <th>0</th>\n",
       "      <td>[Arrogant QLearner, Tit For 2 Tats, Meta Winne...</td>\n",
       "      <td>0</td>\n",
       "      <td>0</td>\n",
       "      <td>SolutionB1</td>\n",
       "      <td>0</td>\n",
       "      <td>2</td>\n",
       "      <td>(Arrogant QLearner, Joss: 0.9)</td>\n",
       "      <td>2</td>\n",
       "      <td>1</td>\n",
       "      <td>[1126, 1117, 1110, 1108, 1120, 1092, 1105, 110...</td>\n",
       "      <td>...</td>\n",
       "      <td>3</td>\n",
       "      <td>1</td>\n",
       "      <td>0</td>\n",
       "      <td>5</td>\n",
       "      <td>0.0</td>\n",
       "      <td>2</td>\n",
       "      <td>[[0, 1], [0, 4]]</td>\n",
       "      <td>50</td>\n",
       "      <td>0.05555</td>\n",
       "      <td>110    0.26\n",
       "Name: ratio, dtype: float64</td>\n",
       "    </tr>\n",
       "  </tbody>\n",
       "</table>\n",
       "<p>1 rows × 24 columns</p>\n",
       "</div>"
      ],
      "text/plain": [
       "                                        players_list  seed  parameter  \\\n",
       "0  [Arrogant QLearner, Tit For 2 Tats, Meta Winne...     0          0   \n",
       "\n",
       "  player_name  player_index  degree                       neighbors  \\\n",
       "0  SolutionB1             0       2  (Arrogant QLearner, Joss: 0.9)   \n",
       "\n",
       "   neighborhood_size  ranking  \\\n",
       "0                  2        1   \n",
       "\n",
       "                                              scores  \\\n",
       "0  [1126, 1117, 1110, 1108, 1120, 1092, 1105, 110...   \n",
       "\n",
       "                    ...                     R  P  S  T  clustering  \\\n",
       "0                   ...                     3  1  0  5         0.0   \n",
       "\n",
       "   connectivity           cliques  frequency  normalised_score  \\\n",
       "0             2  [[0, 1], [0, 4]]         50           0.05555   \n",
       "\n",
       "                                     ratio  \n",
       "0  110    0.26\n",
       "Name: ratio, dtype: float64  \n",
       "\n",
       "[1 rows x 24 columns]"
      ]
     },
     "execution_count": 68,
     "metadata": {},
     "output_type": "execute_result"
    }
   ],
   "source": [
    "data.merge(ratio, on='player_name')\n",
    "data.head(1)"
   ]
  },
  {
   "cell_type": "code",
   "execution_count": null,
   "metadata": {
    "collapsed": true
   },
   "outputs": [],
   "source": []
  },
  {
   "cell_type": "code",
   "execution_count": 49,
   "metadata": {
    "collapsed": false
   },
   "outputs": [
    {
     "data": {
      "text/html": [
       "<div>\n",
       "<table border=\"1\" class=\"dataframe\">\n",
       "  <thead>\n",
       "    <tr style=\"text-align: right;\">\n",
       "      <th></th>\n",
       "      <th>players_list</th>\n",
       "      <th>seed</th>\n",
       "      <th>parameter</th>\n",
       "      <th>player_name</th>\n",
       "      <th>player_index</th>\n",
       "      <th>degree</th>\n",
       "      <th>neighbors</th>\n",
       "      <th>neighborhood_size</th>\n",
       "      <th>ranking</th>\n",
       "      <th>scores</th>\n",
       "      <th>...</th>\n",
       "      <th>R</th>\n",
       "      <th>P</th>\n",
       "      <th>S</th>\n",
       "      <th>T</th>\n",
       "      <th>clustering</th>\n",
       "      <th>connectivity</th>\n",
       "      <th>cliques</th>\n",
       "      <th>frequency</th>\n",
       "      <th>normalised_score</th>\n",
       "      <th>ratio</th>\n",
       "    </tr>\n",
       "  </thead>\n",
       "  <tbody>\n",
       "    <tr>\n",
       "      <th>0</th>\n",
       "      <td>[Arrogant QLearner, Tit For 2 Tats, Meta Winne...</td>\n",
       "      <td>0</td>\n",
       "      <td>0</td>\n",
       "      <td>SolutionB1</td>\n",
       "      <td>0</td>\n",
       "      <td>2</td>\n",
       "      <td>(Arrogant QLearner, Joss: 0.9)</td>\n",
       "      <td>2</td>\n",
       "      <td>1</td>\n",
       "      <td>[1126, 1117, 1110, 1108, 1120, 1092, 1105, 110...</td>\n",
       "      <td>...</td>\n",
       "      <td>3</td>\n",
       "      <td>1</td>\n",
       "      <td>0</td>\n",
       "      <td>5</td>\n",
       "      <td>0.0</td>\n",
       "      <td>2</td>\n",
       "      <td>[[0, 1], [0, 4]]</td>\n",
       "      <td>50</td>\n",
       "      <td>0.055550</td>\n",
       "      <td>110    0.26\n",
       "Name: ratio, dtype: float64</td>\n",
       "    </tr>\n",
       "    <tr>\n",
       "      <th>1</th>\n",
       "      <td>[Arrogant QLearner, Tit For 2 Tats, Meta Winne...</td>\n",
       "      <td>0</td>\n",
       "      <td>0</td>\n",
       "      <td>Arrogant QLearner</td>\n",
       "      <td>1</td>\n",
       "      <td>2</td>\n",
       "      <td>(SolutionB1, Tit For 2 Tats)</td>\n",
       "      <td>2</td>\n",
       "      <td>2</td>\n",
       "      <td>[1238, 1234, 1233, 1230, 1241, 1229, 1242, 122...</td>\n",
       "      <td>...</td>\n",
       "      <td>3</td>\n",
       "      <td>1</td>\n",
       "      <td>0</td>\n",
       "      <td>5</td>\n",
       "      <td>0.0</td>\n",
       "      <td>2</td>\n",
       "      <td>[[0, 1], [2, 1]]</td>\n",
       "      <td>50</td>\n",
       "      <td>0.061575</td>\n",
       "      <td>13    0.12\n",
       "Name: ratio, dtype: float64</td>\n",
       "    </tr>\n",
       "    <tr>\n",
       "      <th>2</th>\n",
       "      <td>[Arrogant QLearner, Tit For 2 Tats, Meta Winne...</td>\n",
       "      <td>0</td>\n",
       "      <td>0</td>\n",
       "      <td>Tit For 2 Tats</td>\n",
       "      <td>2</td>\n",
       "      <td>2</td>\n",
       "      <td>(Arrogant QLearner, Meta Winner Long Memory)</td>\n",
       "      <td>2</td>\n",
       "      <td>0</td>\n",
       "      <td>[1164, 1173, 1162, 1161, 1178, 1170, 1168, 117...</td>\n",
       "      <td>...</td>\n",
       "      <td>3</td>\n",
       "      <td>1</td>\n",
       "      <td>0</td>\n",
       "      <td>5</td>\n",
       "      <td>0.0</td>\n",
       "      <td>2</td>\n",
       "      <td>[[2, 1], [2, 3]]</td>\n",
       "      <td>70</td>\n",
       "      <td>0.041839</td>\n",
       "      <td>118    0.357143\n",
       "Name: ratio, dtype: float64</td>\n",
       "    </tr>\n",
       "    <tr>\n",
       "      <th>3</th>\n",
       "      <td>[Arrogant QLearner, Tit For 2 Tats, Meta Winne...</td>\n",
       "      <td>0</td>\n",
       "      <td>0</td>\n",
       "      <td>Meta Winner Long Memory</td>\n",
       "      <td>3</td>\n",
       "      <td>2</td>\n",
       "      <td>(Tit For 2 Tats, Joss: 0.9)</td>\n",
       "      <td>2</td>\n",
       "      <td>4</td>\n",
       "      <td>[806, 813, 815, 831, 817, 855, 837, 815, 823, ...</td>\n",
       "      <td>...</td>\n",
       "      <td>3</td>\n",
       "      <td>1</td>\n",
       "      <td>0</td>\n",
       "      <td>5</td>\n",
       "      <td>0.0</td>\n",
       "      <td>2</td>\n",
       "      <td>[[2, 3], [3, 4]]</td>\n",
       "      <td>50</td>\n",
       "      <td>0.040800</td>\n",
       "      <td>77    0.22\n",
       "Name: ratio, dtype: float64</td>\n",
       "    </tr>\n",
       "    <tr>\n",
       "      <th>4</th>\n",
       "      <td>[Arrogant QLearner, Tit For 2 Tats, Meta Winne...</td>\n",
       "      <td>0</td>\n",
       "      <td>0</td>\n",
       "      <td>Joss: 0.9</td>\n",
       "      <td>4</td>\n",
       "      <td>2</td>\n",
       "      <td>(SolutionB1, Meta Winner Long Memory)</td>\n",
       "      <td>2</td>\n",
       "      <td>3</td>\n",
       "      <td>[838, 844, 854, 880, 834, 908, 868, 860, 860, ...</td>\n",
       "      <td>...</td>\n",
       "      <td>3</td>\n",
       "      <td>1</td>\n",
       "      <td>0</td>\n",
       "      <td>5</td>\n",
       "      <td>0.0</td>\n",
       "      <td>2</td>\n",
       "      <td>[[0, 4], [3, 4]]</td>\n",
       "      <td>60</td>\n",
       "      <td>0.035708</td>\n",
       "      <td>63    0.133333\n",
       "Name: ratio, dtype: float64</td>\n",
       "    </tr>\n",
       "  </tbody>\n",
       "</table>\n",
       "<p>5 rows × 24 columns</p>\n",
       "</div>"
      ],
      "text/plain": [
       "                                        players_list  seed  parameter  \\\n",
       "0  [Arrogant QLearner, Tit For 2 Tats, Meta Winne...     0          0   \n",
       "1  [Arrogant QLearner, Tit For 2 Tats, Meta Winne...     0          0   \n",
       "2  [Arrogant QLearner, Tit For 2 Tats, Meta Winne...     0          0   \n",
       "3  [Arrogant QLearner, Tit For 2 Tats, Meta Winne...     0          0   \n",
       "4  [Arrogant QLearner, Tit For 2 Tats, Meta Winne...     0          0   \n",
       "\n",
       "               player_name  player_index  degree  \\\n",
       "0               SolutionB1             0       2   \n",
       "1        Arrogant QLearner             1       2   \n",
       "2           Tit For 2 Tats             2       2   \n",
       "3  Meta Winner Long Memory             3       2   \n",
       "4                Joss: 0.9             4       2   \n",
       "\n",
       "                                      neighbors  neighborhood_size  ranking  \\\n",
       "0                (Arrogant QLearner, Joss: 0.9)                  2        1   \n",
       "1                  (SolutionB1, Tit For 2 Tats)                  2        2   \n",
       "2  (Arrogant QLearner, Meta Winner Long Memory)                  2        0   \n",
       "3                   (Tit For 2 Tats, Joss: 0.9)                  2        4   \n",
       "4         (SolutionB1, Meta Winner Long Memory)                  2        3   \n",
       "\n",
       "                                              scores  \\\n",
       "0  [1126, 1117, 1110, 1108, 1120, 1092, 1105, 110...   \n",
       "1  [1238, 1234, 1233, 1230, 1241, 1229, 1242, 122...   \n",
       "2  [1164, 1173, 1162, 1161, 1178, 1170, 1168, 117...   \n",
       "3  [806, 813, 815, 831, 817, 855, 837, 815, 823, ...   \n",
       "4  [838, 844, 854, 880, 834, 908, 868, 860, 860, ...   \n",
       "\n",
       "                      ...                       R  P  S  T  clustering  \\\n",
       "0                     ...                       3  1  0  5         0.0   \n",
       "1                     ...                       3  1  0  5         0.0   \n",
       "2                     ...                       3  1  0  5         0.0   \n",
       "3                     ...                       3  1  0  5         0.0   \n",
       "4                     ...                       3  1  0  5         0.0   \n",
       "\n",
       "   connectivity           cliques  frequency  normalised_score  \\\n",
       "0             2  [[0, 1], [0, 4]]         50          0.055550   \n",
       "1             2  [[0, 1], [2, 1]]         50          0.061575   \n",
       "2             2  [[2, 1], [2, 3]]         70          0.041839   \n",
       "3             2  [[2, 3], [3, 4]]         50          0.040800   \n",
       "4             2  [[0, 4], [3, 4]]         60          0.035708   \n",
       "\n",
       "                                         ratio  \n",
       "0      110    0.26\n",
       "Name: ratio, dtype: float64  \n",
       "1       13    0.12\n",
       "Name: ratio, dtype: float64  \n",
       "2  118    0.357143\n",
       "Name: ratio, dtype: float64  \n",
       "3       77    0.22\n",
       "Name: ratio, dtype: float64  \n",
       "4   63    0.133333\n",
       "Name: ratio, dtype: float64  \n",
       "\n",
       "[5 rows x 24 columns]"
      ]
     },
     "execution_count": 49,
     "metadata": {},
     "output_type": "execute_result"
    }
   ],
   "source": [
    "data.merge(ratio, on='player_name')\n",
    "data.head()"
   ]
  },
  {
   "cell_type": "code",
   "execution_count": 34,
   "metadata": {
    "collapsed": false
   },
   "outputs": [
    {
     "data": {
      "text/plain": [
       "13    0.12\n",
       "Name: ratio, dtype: float64"
      ]
     },
     "execution_count": 34,
     "metadata": {},
     "output_type": "execute_result"
    }
   ],
   "source": [
    "temp = data.player_name[1] == ratio.player_name\n",
    "yolo =  ratio.ratio[temp]\n",
    "yolo"
   ]
  },
  {
   "cell_type": "code",
   "execution_count": null,
   "metadata": {
    "collapsed": true
   },
   "outputs": [],
   "source": [
    "edges = []\n"
   ]
  },
  {
   "cell_type": "code",
   "execution_count": null,
   "metadata": {
    "collapsed": false,
    "scrolled": true
   },
   "outputs": [],
   "source": [
    "# example with cycle five\n",
    "# lets create a circular graph with the interzactions\n",
    "import networkx as nx\n",
    "import matplotlib.pyplot as plt\n",
    "%matplotlib inline\n",
    "\n",
    "G=nx.DiGraph()\n",
    "G.add_nodes_from(cycle_fifty['player_name'].unique())\n",
    "\n",
    "plt.figure(figsize=(18,18))\n",
    "nx.draw_circular(G,node_color='g', edge_color='#909090', node_size=500)\n",
    "plt.axis('equal')"
   ]
  },
  {
   "cell_type": "code",
   "execution_count": null,
   "metadata": {
    "collapsed": true
   },
   "outputs": [],
   "source": [
    "import networkx as nx"
   ]
  },
  {
   "cell_type": "code",
   "execution_count": null,
   "metadata": {
    "collapsed": false
   },
   "outputs": [],
   "source": [
    "G=nx.read_gml('/home/nikoleta/Desktop/Cycle_five.gml')"
   ]
  },
  {
   "cell_type": "code",
   "execution_count": null,
   "metadata": {
    "collapsed": false
   },
   "outputs": [],
   "source": [
    "nx.draw(G)"
   ]
  },
  {
   "cell_type": "code",
   "execution_count": null,
   "metadata": {
    "collapsed": true
   },
   "outputs": [],
   "source": []
  }
 ],
 "metadata": {
  "kernelspec": {
   "display_name": "Python 3",
   "language": "python",
   "name": "python3"
  },
  "language_info": {
   "codemirror_mode": {
    "name": "ipython",
    "version": 3
   },
   "file_extension": ".py",
   "mimetype": "text/x-python",
   "name": "python",
   "nbconvert_exporter": "python",
   "pygments_lexer": "ipython3",
   "version": "3.5.1+"
  }
 },
 "nbformat": 4,
 "nbformat_minor": 0
}
